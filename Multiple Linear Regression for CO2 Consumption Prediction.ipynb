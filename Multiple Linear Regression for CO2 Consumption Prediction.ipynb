{
  "nbformat": 4,
  "nbformat_minor": 0,
  "metadata": {
    "colab": {
      "provenance": []
    },
    "kernelspec": {
      "name": "python3",
      "display_name": "Python 3"
    },
    "language_info": {
      "name": "python"
    }
  },
  "cells": [
    {
      "cell_type": "markdown",
      "source": [
        "# **Multiple Linear Regression**\n",
        "Original notebook by\n",
        "\n",
        "*Prima Dewi Purnanasari*\n",
        "\n",
        "Notebook dapat diakses di:\n",
        "\n",
        "https://colab.research.google.com/drive/11xUo-L_vh9V_qYy3SSuPslK8MsxVjhuH"
      ],
      "metadata": {
        "id": "J_jD6TazqJ6K"
      }
    },
    {
      "cell_type": "markdown",
      "source": [
        "###**Modified and remodeled by**\n",
        "\n",
        "**Kelompok 16**\n",
        "- Fahrezy H (2106731466)\n",
        "- Raditya Akhila Ganapati (2206026151)\n",
        "- Annisa Ardelia Setiawan (2206059471)\n",
        "- Ivander Andreas Wijaya (2206031896)"
      ],
      "metadata": {
        "id": "0yS4m7Xkqg_Y"
      }
    },
    {
      "cell_type": "markdown",
      "source": [
        "####***Homework Instruction***\n",
        "\n",
        "**TK02 (Tugas Kelompok - 02)**\n",
        "\n",
        "Modifikasi program untuk Multivariable/Multiple Linear Regression. Fitur yang dipilih (x)  bebas, sejumlah 4 variabel. Nilai yang akan diprediksi (y) bebas, pilih salah satu.\n",
        "\n",
        "Kerjakan secara berkelompok, dikumpulkan dalam bentuk:\n",
        "1. Print to PDF dari notebook yang dibuat\n",
        "2. URL Google Colab tercantum di baris paling atas\n",
        "3. Nama kelompok dan anggota yang mengerjakan dicantumkan setelah URL"
      ],
      "metadata": {
        "id": "T8Z-zYG_t8WI"
      }
    },
    {
      "cell_type": "markdown",
      "source": [
        "##**Multiple Linear Regression**\n",
        "\n",
        "Pada simple linear regression dengan 1 variabel, maka tujuan pembelajaran mesin adalah untuk mencari persamaan garis lurus dengan 1 variabel, atau biasanya dituliskan dengan:\n",
        "\n",
        "$y = c + m x$\n",
        "\n",
        "dengan\n",
        "*   $c$ = konstanta/bias\n",
        "*   $m$ = gradien/bobot\n",
        "*   $x$ = fitur/variabel yang diketahui/independent variable\n",
        "*   $y$ = nilai yang ingin diprediksi/dependent variable\n",
        "\n",
        "Sedangkan, multiple linear regression menggunakan lebih dari 1 variabel, sehingga tujuan dari pembelajaran mesin berubah, dari yang sebelumnya hanya untuk mencari hubungan antara variabel dependen dengan satu variabel independen saja, kali ini kita akan mencari hubungan dari banyak variabel independen dengan variabel dependen, seperti permasalahan yang umumnya terjadi karena berbagai faktor. Sehingga persamaan yang digunakan untuk multiple linear regression berubah menjadi :\n",
        "\n",
        "$y = θ_0 + θ_1x_1 + θ_2x_2 + ... + θ_nx_n + ε$\n",
        "\n",
        "dengan\n",
        "*   $θ_0$ = intersep\n",
        "*   $θ_1,θ_2,...,θ_n$ = gradien/bobot untuk setiap variabel\n",
        "*   $x_1,x_2,...,x_n$ = fitur/variabel yang diketahui/independent variable\n",
        "*   $y$ = nilai yang ingin diprediksi/dependent variable\n",
        "*   $ε$ = nilai kesalahan (_error rate_)\n",
        "\n",
        "Pada notebook ini kita akan mencari y dengan 2 cara, yaitu dengan:\n",
        "1. Metode Multiple Linear Regression yang ada di Scikit Learn\n",
        "2. Metode Linear Regression dengan Gradient Descent dengan cara membuat kode programnya dengan python (hard coded)\n",
        "\n",
        "Kita juga akan berkenalan dengan metrik evaluasi machine learning untuk permasalahan regresi.\n",
        "\n"
      ],
      "metadata": {
        "id": "g_HGXvjZa-qK"
      }
    },
    {
      "cell_type": "markdown",
      "source": [
        "##**1. Mengambil data yang dibutuhkan**\n",
        "Download data dari URL dengan WGET\n",
        "\n",
        "Pada langkah ini, perintah `wget` digunakan untuk download file CSV dari URL yang diberikan dan menyimpannya dengan nama *fueldata.csv*. Proses dimulai dengan `wget` mencari alamat IP dari domain *s3-api.us-geo.objectstorage.softlayer.net*, lalu membuka koneksi ke server melalui protokol HTTPS. Setelah terhubung, `wget` mengirim permintaan HTTP dan server merespons dengan kode *200 OK*. File berukuran 70.93 KB disimpan sebagai *fueldata.csv*. Setelah download selesai, `wget` mengonfirmasi bahwa file telah tersimpan dan memastikan bahwa data siap untuk digunakan."
      ],
      "metadata": {
        "id": "BhYA5RRIFouF"
      }
    },
    {
      "cell_type": "code",
      "source": [
        "!wget -O fueldata.csv https://s3-api.us-geo.objectstorage.softlayer.net/cf-courses-data/CognitiveClass/ML0101ENv3/labs/FuelConsumptionCo2.csv"
      ],
      "metadata": {
        "colab": {
          "base_uri": "https://localhost:8080/"
        },
        "id": "1xRMHpBbERNJ",
        "outputId": "170d7ca4-5e77-4cf8-d36f-0c575ecc943a"
      },
      "execution_count": null,
      "outputs": [
        {
          "output_type": "stream",
          "name": "stdout",
          "text": [
            "--2025-02-24 15:56:35--  https://s3-api.us-geo.objectstorage.softlayer.net/cf-courses-data/CognitiveClass/ML0101ENv3/labs/FuelConsumptionCo2.csv\n",
            "Resolving s3-api.us-geo.objectstorage.softlayer.net (s3-api.us-geo.objectstorage.softlayer.net)... 67.228.254.196\n",
            "Connecting to s3-api.us-geo.objectstorage.softlayer.net (s3-api.us-geo.objectstorage.softlayer.net)|67.228.254.196|:443... connected.\n",
            "HTTP request sent, awaiting response... 200 OK\n",
            "Length: 72629 (71K) [text/csv]\n",
            "Saving to: ‘fueldata.csv’\n",
            "\n",
            "\rfueldata.csv          0%[                    ]       0  --.-KB/s               \rfueldata.csv        100%[===================>]  70.93K  --.-KB/s    in 0.003s  \n",
            "\n",
            "2025-02-24 15:56:35 (23.1 MB/s) - ‘fueldata.csv’ saved [72629/72629]\n",
            "\n"
          ]
        }
      ]
    },
    {
      "cell_type": "markdown",
      "source": [
        "##**2. Import package yang dibutuhkan**\n",
        "\n",
        "*   **Numpy** untuk manipulasi dan operasi matematika\n",
        "*   **Pandas** untuk tampilan data, dataframe\n",
        "*   **Seaborn** untuk visualisasi data dengan grafik yang lebih estetis\n",
        "*   **Matplotlib Pyplot** untuk membuat grafik\n",
        "*   **Matplotlib Inline** untuk menampilkan grafik langsung dalam notebook\n",
        "*   **Scikit Learn** untuk machine learning\n",
        "\n",
        "\n",
        "\n"
      ],
      "metadata": {
        "id": "WliR-09VFeQ8"
      }
    },
    {
      "cell_type": "code",
      "execution_count": null,
      "metadata": {
        "id": "cLTJg8URDxAg"
      },
      "outputs": [],
      "source": [
        "import numpy as np\n",
        "import pandas as pd\n",
        "import seaborn as sns\n",
        "import matplotlib.pyplot as plt\n",
        "%matplotlib inline # menampilkan gambar dalam notebook ini langsung\n",
        "import sklearn"
      ]
    },
    {
      "cell_type": "markdown",
      "source": [
        "##**3. Eksplorasi data**\n",
        "Masukkan data ke data frame df.\n",
        "\n",
        "Pada langkah ini, data dari file *fueldata.csv* dimuat ke dalam dataframe *df* menggunakan fungsi *pd.read_csv()*. Hal ini memungkinkan data untuk diproses dan dianalisis dengan mudah menggunakan library *pandas*."
      ],
      "metadata": {
        "id": "P6AL5VmXF0Ba"
      }
    },
    {
      "cell_type": "code",
      "source": [
        "filepath = \"fueldata.csv\"\n",
        "df = pd.read_csv(filepath)"
      ],
      "metadata": {
        "id": "ct9aChy9dTrc"
      },
      "execution_count": null,
      "outputs": []
    },
    {
      "cell_type": "markdown",
      "source": [
        "Menampilkan info. Ada [1067 rows x 13 columns] berarti ada 1067 baris data dan 13 fitur.\n",
        "\n",
        "Fungsi *df.info()* digunakan untuk menampilkan informasi struktur dataset, termasuk jumlah baris, kolom, tipe data, dan apakah ada nilai yang hilang. Hasilnya menunjukkan bahwa dataset memiliki 1067 baris dan 13 kolom.\n",
        "\n",
        "Fungsi *df.describe()* digunakan untuk memberikan ringkasan statistik dari data numerik, seperti nilai rata-rata (*mean*), standar deviasi (*std*), nilai minimum (*min*), kuartil, dan nilai maksimum (*max*). Analisis ini membantu memahami distribusi data serta rentang nilai pada setiap fitur sebelum dilakukan pemrosesan lebih lanjut."
      ],
      "metadata": {
        "id": "JZwB7H_5eAeO"
      }
    },
    {
      "cell_type": "code",
      "source": [
        "print(df.info)\n",
        "#summary dari data dalam statistik\n",
        "df.describe()"
      ],
      "metadata": {
        "colab": {
          "base_uri": "https://localhost:8080/",
          "height": 1000
        },
        "id": "IJeHOK8YeOOO",
        "outputId": "f8d7d1b2-a23d-4f59-87b8-87a6b2c3bc77"
      },
      "execution_count": null,
      "outputs": [
        {
          "output_type": "stream",
          "name": "stdout",
          "text": [
            "<bound method DataFrame.info of       MODELYEAR   MAKE       MODEL    VEHICLECLASS  ENGINESIZE  CYLINDERS  \\\n",
            "0          2014  ACURA         ILX         COMPACT         2.0          4   \n",
            "1          2014  ACURA         ILX         COMPACT         2.4          4   \n",
            "2          2014  ACURA  ILX HYBRID         COMPACT         1.5          4   \n",
            "3          2014  ACURA     MDX 4WD     SUV - SMALL         3.5          6   \n",
            "4          2014  ACURA     RDX AWD     SUV - SMALL         3.5          6   \n",
            "...         ...    ...         ...             ...         ...        ...   \n",
            "1062       2014  VOLVO    XC60 AWD     SUV - SMALL         3.0          6   \n",
            "1063       2014  VOLVO    XC60 AWD     SUV - SMALL         3.2          6   \n",
            "1064       2014  VOLVO    XC70 AWD     SUV - SMALL         3.0          6   \n",
            "1065       2014  VOLVO    XC70 AWD     SUV - SMALL         3.2          6   \n",
            "1066       2014  VOLVO    XC90 AWD  SUV - STANDARD         3.2          6   \n",
            "\n",
            "     TRANSMISSION FUELTYPE  FUELCONSUMPTION_CITY  FUELCONSUMPTION_HWY  \\\n",
            "0             AS5        Z                   9.9                  6.7   \n",
            "1              M6        Z                  11.2                  7.7   \n",
            "2             AV7        Z                   6.0                  5.8   \n",
            "3             AS6        Z                  12.7                  9.1   \n",
            "4             AS6        Z                  12.1                  8.7   \n",
            "...           ...      ...                   ...                  ...   \n",
            "1062          AS6        X                  13.4                  9.8   \n",
            "1063          AS6        X                  13.2                  9.5   \n",
            "1064          AS6        X                  13.4                  9.8   \n",
            "1065          AS6        X                  12.9                  9.3   \n",
            "1066          AS6        X                  14.9                 10.2   \n",
            "\n",
            "      FUELCONSUMPTION_COMB  FUELCONSUMPTION_COMB_MPG  CO2EMISSIONS  \n",
            "0                      8.5                        33           196  \n",
            "1                      9.6                        29           221  \n",
            "2                      5.9                        48           136  \n",
            "3                     11.1                        25           255  \n",
            "4                     10.6                        27           244  \n",
            "...                    ...                       ...           ...  \n",
            "1062                  11.8                        24           271  \n",
            "1063                  11.5                        25           264  \n",
            "1064                  11.8                        24           271  \n",
            "1065                  11.3                        25           260  \n",
            "1066                  12.8                        22           294  \n",
            "\n",
            "[1067 rows x 13 columns]>\n"
          ]
        },
        {
          "output_type": "execute_result",
          "data": {
            "text/plain": [
              "       MODELYEAR   ENGINESIZE    CYLINDERS  FUELCONSUMPTION_CITY  \\\n",
              "count     1067.0  1067.000000  1067.000000           1067.000000   \n",
              "mean      2014.0     3.346298     5.794752             13.296532   \n",
              "std          0.0     1.415895     1.797447              4.101253   \n",
              "min       2014.0     1.000000     3.000000              4.600000   \n",
              "25%       2014.0     2.000000     4.000000             10.250000   \n",
              "50%       2014.0     3.400000     6.000000             12.600000   \n",
              "75%       2014.0     4.300000     8.000000             15.550000   \n",
              "max       2014.0     8.400000    12.000000             30.200000   \n",
              "\n",
              "       FUELCONSUMPTION_HWY  FUELCONSUMPTION_COMB  FUELCONSUMPTION_COMB_MPG  \\\n",
              "count          1067.000000           1067.000000               1067.000000   \n",
              "mean              9.474602             11.580881                 26.441425   \n",
              "std               2.794510              3.485595                  7.468702   \n",
              "min               4.900000              4.700000                 11.000000   \n",
              "25%               7.500000              9.000000                 21.000000   \n",
              "50%               8.800000             10.900000                 26.000000   \n",
              "75%              10.850000             13.350000                 31.000000   \n",
              "max              20.500000             25.800000                 60.000000   \n",
              "\n",
              "       CO2EMISSIONS  \n",
              "count   1067.000000  \n",
              "mean     256.228679  \n",
              "std       63.372304  \n",
              "min      108.000000  \n",
              "25%      207.000000  \n",
              "50%      251.000000  \n",
              "75%      294.000000  \n",
              "max      488.000000  "
            ],
            "text/html": [
              "\n",
              "  <div id=\"df-8457e30a-d2d9-45ef-a921-d93d42c41e38\" class=\"colab-df-container\">\n",
              "    <div>\n",
              "<style scoped>\n",
              "    .dataframe tbody tr th:only-of-type {\n",
              "        vertical-align: middle;\n",
              "    }\n",
              "\n",
              "    .dataframe tbody tr th {\n",
              "        vertical-align: top;\n",
              "    }\n",
              "\n",
              "    .dataframe thead th {\n",
              "        text-align: right;\n",
              "    }\n",
              "</style>\n",
              "<table border=\"1\" class=\"dataframe\">\n",
              "  <thead>\n",
              "    <tr style=\"text-align: right;\">\n",
              "      <th></th>\n",
              "      <th>MODELYEAR</th>\n",
              "      <th>ENGINESIZE</th>\n",
              "      <th>CYLINDERS</th>\n",
              "      <th>FUELCONSUMPTION_CITY</th>\n",
              "      <th>FUELCONSUMPTION_HWY</th>\n",
              "      <th>FUELCONSUMPTION_COMB</th>\n",
              "      <th>FUELCONSUMPTION_COMB_MPG</th>\n",
              "      <th>CO2EMISSIONS</th>\n",
              "    </tr>\n",
              "  </thead>\n",
              "  <tbody>\n",
              "    <tr>\n",
              "      <th>count</th>\n",
              "      <td>1067.0</td>\n",
              "      <td>1067.000000</td>\n",
              "      <td>1067.000000</td>\n",
              "      <td>1067.000000</td>\n",
              "      <td>1067.000000</td>\n",
              "      <td>1067.000000</td>\n",
              "      <td>1067.000000</td>\n",
              "      <td>1067.000000</td>\n",
              "    </tr>\n",
              "    <tr>\n",
              "      <th>mean</th>\n",
              "      <td>2014.0</td>\n",
              "      <td>3.346298</td>\n",
              "      <td>5.794752</td>\n",
              "      <td>13.296532</td>\n",
              "      <td>9.474602</td>\n",
              "      <td>11.580881</td>\n",
              "      <td>26.441425</td>\n",
              "      <td>256.228679</td>\n",
              "    </tr>\n",
              "    <tr>\n",
              "      <th>std</th>\n",
              "      <td>0.0</td>\n",
              "      <td>1.415895</td>\n",
              "      <td>1.797447</td>\n",
              "      <td>4.101253</td>\n",
              "      <td>2.794510</td>\n",
              "      <td>3.485595</td>\n",
              "      <td>7.468702</td>\n",
              "      <td>63.372304</td>\n",
              "    </tr>\n",
              "    <tr>\n",
              "      <th>min</th>\n",
              "      <td>2014.0</td>\n",
              "      <td>1.000000</td>\n",
              "      <td>3.000000</td>\n",
              "      <td>4.600000</td>\n",
              "      <td>4.900000</td>\n",
              "      <td>4.700000</td>\n",
              "      <td>11.000000</td>\n",
              "      <td>108.000000</td>\n",
              "    </tr>\n",
              "    <tr>\n",
              "      <th>25%</th>\n",
              "      <td>2014.0</td>\n",
              "      <td>2.000000</td>\n",
              "      <td>4.000000</td>\n",
              "      <td>10.250000</td>\n",
              "      <td>7.500000</td>\n",
              "      <td>9.000000</td>\n",
              "      <td>21.000000</td>\n",
              "      <td>207.000000</td>\n",
              "    </tr>\n",
              "    <tr>\n",
              "      <th>50%</th>\n",
              "      <td>2014.0</td>\n",
              "      <td>3.400000</td>\n",
              "      <td>6.000000</td>\n",
              "      <td>12.600000</td>\n",
              "      <td>8.800000</td>\n",
              "      <td>10.900000</td>\n",
              "      <td>26.000000</td>\n",
              "      <td>251.000000</td>\n",
              "    </tr>\n",
              "    <tr>\n",
              "      <th>75%</th>\n",
              "      <td>2014.0</td>\n",
              "      <td>4.300000</td>\n",
              "      <td>8.000000</td>\n",
              "      <td>15.550000</td>\n",
              "      <td>10.850000</td>\n",
              "      <td>13.350000</td>\n",
              "      <td>31.000000</td>\n",
              "      <td>294.000000</td>\n",
              "    </tr>\n",
              "    <tr>\n",
              "      <th>max</th>\n",
              "      <td>2014.0</td>\n",
              "      <td>8.400000</td>\n",
              "      <td>12.000000</td>\n",
              "      <td>30.200000</td>\n",
              "      <td>20.500000</td>\n",
              "      <td>25.800000</td>\n",
              "      <td>60.000000</td>\n",
              "      <td>488.000000</td>\n",
              "    </tr>\n",
              "  </tbody>\n",
              "</table>\n",
              "</div>\n",
              "    <div class=\"colab-df-buttons\">\n",
              "\n",
              "  <div class=\"colab-df-container\">\n",
              "    <button class=\"colab-df-convert\" onclick=\"convertToInteractive('df-8457e30a-d2d9-45ef-a921-d93d42c41e38')\"\n",
              "            title=\"Convert this dataframe to an interactive table.\"\n",
              "            style=\"display:none;\">\n",
              "\n",
              "  <svg xmlns=\"http://www.w3.org/2000/svg\" height=\"24px\" viewBox=\"0 -960 960 960\">\n",
              "    <path d=\"M120-120v-720h720v720H120Zm60-500h600v-160H180v160Zm220 220h160v-160H400v160Zm0 220h160v-160H400v160ZM180-400h160v-160H180v160Zm440 0h160v-160H620v160ZM180-180h160v-160H180v160Zm440 0h160v-160H620v160Z\"/>\n",
              "  </svg>\n",
              "    </button>\n",
              "\n",
              "  <style>\n",
              "    .colab-df-container {\n",
              "      display:flex;\n",
              "      gap: 12px;\n",
              "    }\n",
              "\n",
              "    .colab-df-convert {\n",
              "      background-color: #E8F0FE;\n",
              "      border: none;\n",
              "      border-radius: 50%;\n",
              "      cursor: pointer;\n",
              "      display: none;\n",
              "      fill: #1967D2;\n",
              "      height: 32px;\n",
              "      padding: 0 0 0 0;\n",
              "      width: 32px;\n",
              "    }\n",
              "\n",
              "    .colab-df-convert:hover {\n",
              "      background-color: #E2EBFA;\n",
              "      box-shadow: 0px 1px 2px rgba(60, 64, 67, 0.3), 0px 1px 3px 1px rgba(60, 64, 67, 0.15);\n",
              "      fill: #174EA6;\n",
              "    }\n",
              "\n",
              "    .colab-df-buttons div {\n",
              "      margin-bottom: 4px;\n",
              "    }\n",
              "\n",
              "    [theme=dark] .colab-df-convert {\n",
              "      background-color: #3B4455;\n",
              "      fill: #D2E3FC;\n",
              "    }\n",
              "\n",
              "    [theme=dark] .colab-df-convert:hover {\n",
              "      background-color: #434B5C;\n",
              "      box-shadow: 0px 1px 3px 1px rgba(0, 0, 0, 0.15);\n",
              "      filter: drop-shadow(0px 1px 2px rgba(0, 0, 0, 0.3));\n",
              "      fill: #FFFFFF;\n",
              "    }\n",
              "  </style>\n",
              "\n",
              "    <script>\n",
              "      const buttonEl =\n",
              "        document.querySelector('#df-8457e30a-d2d9-45ef-a921-d93d42c41e38 button.colab-df-convert');\n",
              "      buttonEl.style.display =\n",
              "        google.colab.kernel.accessAllowed ? 'block' : 'none';\n",
              "\n",
              "      async function convertToInteractive(key) {\n",
              "        const element = document.querySelector('#df-8457e30a-d2d9-45ef-a921-d93d42c41e38');\n",
              "        const dataTable =\n",
              "          await google.colab.kernel.invokeFunction('convertToInteractive',\n",
              "                                                    [key], {});\n",
              "        if (!dataTable) return;\n",
              "\n",
              "        const docLinkHtml = 'Like what you see? Visit the ' +\n",
              "          '<a target=\"_blank\" href=https://colab.research.google.com/notebooks/data_table.ipynb>data table notebook</a>'\n",
              "          + ' to learn more about interactive tables.';\n",
              "        element.innerHTML = '';\n",
              "        dataTable['output_type'] = 'display_data';\n",
              "        await google.colab.output.renderOutput(dataTable, element);\n",
              "        const docLink = document.createElement('div');\n",
              "        docLink.innerHTML = docLinkHtml;\n",
              "        element.appendChild(docLink);\n",
              "      }\n",
              "    </script>\n",
              "  </div>\n",
              "\n",
              "\n",
              "<div id=\"df-7c9371c6-c72b-40b8-8353-f1220118202d\">\n",
              "  <button class=\"colab-df-quickchart\" onclick=\"quickchart('df-7c9371c6-c72b-40b8-8353-f1220118202d')\"\n",
              "            title=\"Suggest charts\"\n",
              "            style=\"display:none;\">\n",
              "\n",
              "<svg xmlns=\"http://www.w3.org/2000/svg\" height=\"24px\"viewBox=\"0 0 24 24\"\n",
              "     width=\"24px\">\n",
              "    <g>\n",
              "        <path d=\"M19 3H5c-1.1 0-2 .9-2 2v14c0 1.1.9 2 2 2h14c1.1 0 2-.9 2-2V5c0-1.1-.9-2-2-2zM9 17H7v-7h2v7zm4 0h-2V7h2v10zm4 0h-2v-4h2v4z\"/>\n",
              "    </g>\n",
              "</svg>\n",
              "  </button>\n",
              "\n",
              "<style>\n",
              "  .colab-df-quickchart {\n",
              "      --bg-color: #E8F0FE;\n",
              "      --fill-color: #1967D2;\n",
              "      --hover-bg-color: #E2EBFA;\n",
              "      --hover-fill-color: #174EA6;\n",
              "      --disabled-fill-color: #AAA;\n",
              "      --disabled-bg-color: #DDD;\n",
              "  }\n",
              "\n",
              "  [theme=dark] .colab-df-quickchart {\n",
              "      --bg-color: #3B4455;\n",
              "      --fill-color: #D2E3FC;\n",
              "      --hover-bg-color: #434B5C;\n",
              "      --hover-fill-color: #FFFFFF;\n",
              "      --disabled-bg-color: #3B4455;\n",
              "      --disabled-fill-color: #666;\n",
              "  }\n",
              "\n",
              "  .colab-df-quickchart {\n",
              "    background-color: var(--bg-color);\n",
              "    border: none;\n",
              "    border-radius: 50%;\n",
              "    cursor: pointer;\n",
              "    display: none;\n",
              "    fill: var(--fill-color);\n",
              "    height: 32px;\n",
              "    padding: 0;\n",
              "    width: 32px;\n",
              "  }\n",
              "\n",
              "  .colab-df-quickchart:hover {\n",
              "    background-color: var(--hover-bg-color);\n",
              "    box-shadow: 0 1px 2px rgba(60, 64, 67, 0.3), 0 1px 3px 1px rgba(60, 64, 67, 0.15);\n",
              "    fill: var(--button-hover-fill-color);\n",
              "  }\n",
              "\n",
              "  .colab-df-quickchart-complete:disabled,\n",
              "  .colab-df-quickchart-complete:disabled:hover {\n",
              "    background-color: var(--disabled-bg-color);\n",
              "    fill: var(--disabled-fill-color);\n",
              "    box-shadow: none;\n",
              "  }\n",
              "\n",
              "  .colab-df-spinner {\n",
              "    border: 2px solid var(--fill-color);\n",
              "    border-color: transparent;\n",
              "    border-bottom-color: var(--fill-color);\n",
              "    animation:\n",
              "      spin 1s steps(1) infinite;\n",
              "  }\n",
              "\n",
              "  @keyframes spin {\n",
              "    0% {\n",
              "      border-color: transparent;\n",
              "      border-bottom-color: var(--fill-color);\n",
              "      border-left-color: var(--fill-color);\n",
              "    }\n",
              "    20% {\n",
              "      border-color: transparent;\n",
              "      border-left-color: var(--fill-color);\n",
              "      border-top-color: var(--fill-color);\n",
              "    }\n",
              "    30% {\n",
              "      border-color: transparent;\n",
              "      border-left-color: var(--fill-color);\n",
              "      border-top-color: var(--fill-color);\n",
              "      border-right-color: var(--fill-color);\n",
              "    }\n",
              "    40% {\n",
              "      border-color: transparent;\n",
              "      border-right-color: var(--fill-color);\n",
              "      border-top-color: var(--fill-color);\n",
              "    }\n",
              "    60% {\n",
              "      border-color: transparent;\n",
              "      border-right-color: var(--fill-color);\n",
              "    }\n",
              "    80% {\n",
              "      border-color: transparent;\n",
              "      border-right-color: var(--fill-color);\n",
              "      border-bottom-color: var(--fill-color);\n",
              "    }\n",
              "    90% {\n",
              "      border-color: transparent;\n",
              "      border-bottom-color: var(--fill-color);\n",
              "    }\n",
              "  }\n",
              "</style>\n",
              "\n",
              "  <script>\n",
              "    async function quickchart(key) {\n",
              "      const quickchartButtonEl =\n",
              "        document.querySelector('#' + key + ' button');\n",
              "      quickchartButtonEl.disabled = true;  // To prevent multiple clicks.\n",
              "      quickchartButtonEl.classList.add('colab-df-spinner');\n",
              "      try {\n",
              "        const charts = await google.colab.kernel.invokeFunction(\n",
              "            'suggestCharts', [key], {});\n",
              "      } catch (error) {\n",
              "        console.error('Error during call to suggestCharts:', error);\n",
              "      }\n",
              "      quickchartButtonEl.classList.remove('colab-df-spinner');\n",
              "      quickchartButtonEl.classList.add('colab-df-quickchart-complete');\n",
              "    }\n",
              "    (() => {\n",
              "      let quickchartButtonEl =\n",
              "        document.querySelector('#df-7c9371c6-c72b-40b8-8353-f1220118202d button');\n",
              "      quickchartButtonEl.style.display =\n",
              "        google.colab.kernel.accessAllowed ? 'block' : 'none';\n",
              "    })();\n",
              "  </script>\n",
              "</div>\n",
              "\n",
              "    </div>\n",
              "  </div>\n"
            ],
            "application/vnd.google.colaboratory.intrinsic+json": {
              "type": "dataframe",
              "summary": "{\n  \"name\": \"df\",\n  \"rows\": 8,\n  \"fields\": [\n    {\n      \"column\": \"MODELYEAR\",\n      \"properties\": {\n        \"dtype\": \"number\",\n        \"std\": 742.2999850849674,\n        \"min\": 0.0,\n        \"max\": 2014.0,\n        \"num_unique_values\": 3,\n        \"samples\": [\n          1067.0,\n          2014.0,\n          0.0\n        ],\n        \"semantic_type\": \"\",\n        \"description\": \"\"\n      }\n    },\n    {\n      \"column\": \"ENGINESIZE\",\n      \"properties\": {\n        \"dtype\": \"number\",\n        \"std\": 376.04336222834814,\n        \"min\": 1.0,\n        \"max\": 1067.0,\n        \"num_unique_values\": 8,\n        \"samples\": [\n          3.346298031865042,\n          3.4,\n          1067.0\n        ],\n        \"semantic_type\": \"\",\n        \"description\": \"\"\n      }\n    },\n    {\n      \"column\": \"CYLINDERS\",\n      \"properties\": {\n        \"dtype\": \"number\",\n        \"std\": 375.2046584534259,\n        \"min\": 1.7974472750409691,\n        \"max\": 1067.0,\n        \"num_unique_values\": 8,\n        \"samples\": [\n          5.794751640112465,\n          6.0,\n          1067.0\n        ],\n        \"semantic_type\": \"\",\n        \"description\": \"\"\n      }\n    },\n    {\n      \"column\": \"FUELCONSUMPTION_CITY\",\n      \"properties\": {\n        \"dtype\": \"number\",\n        \"std\": 372.753722580423,\n        \"min\": 4.1012533170683385,\n        \"max\": 1067.0,\n        \"num_unique_values\": 8,\n        \"samples\": [\n          13.296532333645736,\n          12.6,\n          1067.0\n        ],\n        \"semantic_type\": \"\",\n        \"description\": \"\"\n      }\n    },\n    {\n      \"column\": \"FUELCONSUMPTION_HWY\",\n      \"properties\": {\n        \"dtype\": \"number\",\n        \"std\": 374.0044761078589,\n        \"min\": 2.7945104498854083,\n        \"max\": 1067.0,\n        \"num_unique_values\": 8,\n        \"samples\": [\n          9.474601686972822,\n          8.8,\n          1067.0\n        ],\n        \"semantic_type\": \"\",\n        \"description\": \"\"\n      }\n    },\n    {\n      \"column\": \"FUELCONSUMPTION_COMB\",\n      \"properties\": {\n        \"dtype\": \"number\",\n        \"std\": 373.32274511507654,\n        \"min\": 3.485594849634841,\n        \"max\": 1067.0,\n        \"num_unique_values\": 8,\n        \"samples\": [\n          11.580880974695408,\n          10.9,\n          1067.0\n        ],\n        \"semantic_type\": \"\",\n        \"description\": \"\"\n      }\n    },\n    {\n      \"column\": \"FUELCONSUMPTION_COMB_MPG\",\n      \"properties\": {\n        \"dtype\": \"number\",\n        \"std\": 368.34737387553685,\n        \"min\": 7.468701989863615,\n        \"max\": 1067.0,\n        \"num_unique_values\": 8,\n        \"samples\": [\n          26.441424554826618,\n          26.0,\n          1067.0\n        ],\n        \"semantic_type\": \"\",\n        \"description\": \"\"\n      }\n    },\n    {\n      \"column\": \"CO2EMISSIONS\",\n      \"properties\": {\n        \"dtype\": \"number\",\n        \"std\": 319.7089899224837,\n        \"min\": 63.37230444280006,\n        \"max\": 1067.0,\n        \"num_unique_values\": 8,\n        \"samples\": [\n          256.2286785379569,\n          251.0,\n          1067.0\n        ],\n        \"semantic_type\": \"\",\n        \"description\": \"\"\n      }\n    }\n  ]\n}"
            }
          },
          "metadata": {},
          "execution_count": 345
        }
      ]
    },
    {
      "cell_type": "markdown",
      "source": [
        "Menampilkan semua fitur yang tersedia. Bisa digunakan semua, atau dipilih.\n",
        "\n",
        "Kami akan memilih 4 fitur (x) dan 1 variabel yang akan diprediksi (y) saja dari 13 variabel yang tersedia."
      ],
      "metadata": {
        "id": "pVlCdmU8dNFm"
      }
    },
    {
      "cell_type": "code",
      "source": [
        "df.columns"
      ],
      "metadata": {
        "colab": {
          "base_uri": "https://localhost:8080/"
        },
        "id": "0iWRsC4cEUq2",
        "outputId": "e2526331-12c9-4e63-98b6-57eae23bc233"
      },
      "execution_count": null,
      "outputs": [
        {
          "output_type": "execute_result",
          "data": {
            "text/plain": [
              "Index(['MODELYEAR', 'MAKE', 'MODEL', 'VEHICLECLASS', 'ENGINESIZE', 'CYLINDERS',\n",
              "       'TRANSMISSION', 'FUELTYPE', 'FUELCONSUMPTION_CITY',\n",
              "       'FUELCONSUMPTION_HWY', 'FUELCONSUMPTION_COMB',\n",
              "       'FUELCONSUMPTION_COMB_MPG', 'CO2EMISSIONS'],\n",
              "      dtype='object')"
            ]
          },
          "metadata": {},
          "execution_count": 346
        }
      ]
    },
    {
      "cell_type": "markdown",
      "source": [
        "##**4. Data Preprocessing**\n",
        "\n",
        "Sering kali data asli tidak lengkap. Salah satu cara untuk membersihkan data dengan menghilangkan baris yang null (missing).\n",
        "\n",
        "Fungsi *df.dropna()* digunakan untuk menghapus baris yang memiliki nilai kosong (missing values) dalam dataset. Cara ini adalah salah satu metode pembersihan data yang memastikan analisis dilakukan hanya pada data yang lengkap, meskipun ada cara lain untuk menangani data yang hilang, yang belum dibahas pada tahap ini.\n",
        "\n",
        "Fungsi *df.describe()* pada *pandas* digunakan untuk menghasilkan statistik deskriptif dari dataset, seperti nilai rata-rata (mean), standar deviasi (std), nilai minimum (min), kuartil, dan nilai maksimum (max). Fungsi ini membantu memahami distribusi data numerik serta karakteristiknya, dengan mengabaikan nilai yang hilang (NaN)."
      ],
      "metadata": {
        "id": "yad12IMcGGtX"
      }
    },
    {
      "cell_type": "code",
      "source": [
        "# drop rows with missing value\n",
        "df = df.dropna()"
      ],
      "metadata": {
        "id": "2zHh5k_pEbKu"
      },
      "execution_count": null,
      "outputs": []
    },
    {
      "cell_type": "code",
      "source": [
        "df.describe"
      ],
      "metadata": {
        "colab": {
          "base_uri": "https://localhost:8080/",
          "height": 186
        },
        "id": "OQUp5EyAfOqn",
        "outputId": "eb96b966-8960-4f95-e305-1e95712bcaab"
      },
      "execution_count": null,
      "outputs": [
        {
          "output_type": "execute_result",
          "data": {
            "text/plain": [
              "<bound method NDFrame.describe of       MODELYEAR   MAKE       MODEL    VEHICLECLASS  ENGINESIZE  CYLINDERS  \\\n",
              "0          2014  ACURA         ILX         COMPACT         2.0          4   \n",
              "1          2014  ACURA         ILX         COMPACT         2.4          4   \n",
              "2          2014  ACURA  ILX HYBRID         COMPACT         1.5          4   \n",
              "3          2014  ACURA     MDX 4WD     SUV - SMALL         3.5          6   \n",
              "4          2014  ACURA     RDX AWD     SUV - SMALL         3.5          6   \n",
              "...         ...    ...         ...             ...         ...        ...   \n",
              "1062       2014  VOLVO    XC60 AWD     SUV - SMALL         3.0          6   \n",
              "1063       2014  VOLVO    XC60 AWD     SUV - SMALL         3.2          6   \n",
              "1064       2014  VOLVO    XC70 AWD     SUV - SMALL         3.0          6   \n",
              "1065       2014  VOLVO    XC70 AWD     SUV - SMALL         3.2          6   \n",
              "1066       2014  VOLVO    XC90 AWD  SUV - STANDARD         3.2          6   \n",
              "\n",
              "     TRANSMISSION FUELTYPE  FUELCONSUMPTION_CITY  FUELCONSUMPTION_HWY  \\\n",
              "0             AS5        Z                   9.9                  6.7   \n",
              "1              M6        Z                  11.2                  7.7   \n",
              "2             AV7        Z                   6.0                  5.8   \n",
              "3             AS6        Z                  12.7                  9.1   \n",
              "4             AS6        Z                  12.1                  8.7   \n",
              "...           ...      ...                   ...                  ...   \n",
              "1062          AS6        X                  13.4                  9.8   \n",
              "1063          AS6        X                  13.2                  9.5   \n",
              "1064          AS6        X                  13.4                  9.8   \n",
              "1065          AS6        X                  12.9                  9.3   \n",
              "1066          AS6        X                  14.9                 10.2   \n",
              "\n",
              "      FUELCONSUMPTION_COMB  FUELCONSUMPTION_COMB_MPG  CO2EMISSIONS  \n",
              "0                      8.5                        33           196  \n",
              "1                      9.6                        29           221  \n",
              "2                      5.9                        48           136  \n",
              "3                     11.1                        25           255  \n",
              "4                     10.6                        27           244  \n",
              "...                    ...                       ...           ...  \n",
              "1062                  11.8                        24           271  \n",
              "1063                  11.5                        25           264  \n",
              "1064                  11.8                        24           271  \n",
              "1065                  11.3                        25           260  \n",
              "1066                  12.8                        22           294  \n",
              "\n",
              "[1067 rows x 13 columns]>"
            ],
            "text/html": [
              "<div style=\"max-width:800px; border: 1px solid var(--colab-border-color);\"><style>\n",
              "      pre.function-repr-contents {\n",
              "        overflow-x: auto;\n",
              "        padding: 8px 12px;\n",
              "        max-height: 500px;\n",
              "      }\n",
              "\n",
              "      pre.function-repr-contents.function-repr-contents-collapsed {\n",
              "        cursor: pointer;\n",
              "        max-height: 100px;\n",
              "      }\n",
              "    </style>\n",
              "    <pre style=\"white-space: initial; background:\n",
              "         var(--colab-secondary-surface-color); padding: 8px 12px;\n",
              "         border-bottom: 1px solid var(--colab-border-color);\"><b>pandas.core.generic.NDFrame.describe</b><br/>def describe(percentiles=None, include=None, exclude=None) -&gt; Self</pre><pre class=\"function-repr-contents function-repr-contents-collapsed\" style=\"\"><a class=\"filepath\" style=\"display:none\" href=\"#\">/usr/local/lib/python3.11/dist-packages/pandas/core/generic.py</a>Generate descriptive statistics.\n",
              "\n",
              "Descriptive statistics include those that summarize the central\n",
              "tendency, dispersion and shape of a\n",
              "dataset&#x27;s distribution, excluding ``NaN`` values.\n",
              "\n",
              "Analyzes both numeric and object series, as well\n",
              "as ``DataFrame`` column sets of mixed data types. The output\n",
              "will vary depending on what is provided. Refer to the notes\n",
              "below for more detail.\n",
              "\n",
              "Parameters\n",
              "----------\n",
              "percentiles : list-like of numbers, optional\n",
              "    The percentiles to include in the output. All should\n",
              "    fall between 0 and 1. The default is\n",
              "    ``[.25, .5, .75]``, which returns the 25th, 50th, and\n",
              "    75th percentiles.\n",
              "include : &#x27;all&#x27;, list-like of dtypes or None (default), optional\n",
              "    A white list of data types to include in the result. Ignored\n",
              "    for ``Series``. Here are the options:\n",
              "\n",
              "    - &#x27;all&#x27; : All columns of the input will be included in the output.\n",
              "    - A list-like of dtypes : Limits the results to the\n",
              "      provided data types.\n",
              "      To limit the result to numeric types submit\n",
              "      ``numpy.number``. To limit it instead to object columns submit\n",
              "      the ``numpy.object`` data type. Strings\n",
              "      can also be used in the style of\n",
              "      ``select_dtypes`` (e.g. ``df.describe(include=[&#x27;O&#x27;])``). To\n",
              "      select pandas categorical columns, use ``&#x27;category&#x27;``\n",
              "    - None (default) : The result will include all numeric columns.\n",
              "exclude : list-like of dtypes or None (default), optional,\n",
              "    A black list of data types to omit from the result. Ignored\n",
              "    for ``Series``. Here are the options:\n",
              "\n",
              "    - A list-like of dtypes : Excludes the provided data types\n",
              "      from the result. To exclude numeric types submit\n",
              "      ``numpy.number``. To exclude object columns submit the data\n",
              "      type ``numpy.object``. Strings can also be used in the style of\n",
              "      ``select_dtypes`` (e.g. ``df.describe(exclude=[&#x27;O&#x27;])``). To\n",
              "      exclude pandas categorical columns, use ``&#x27;category&#x27;``\n",
              "    - None (default) : The result will exclude nothing.\n",
              "\n",
              "Returns\n",
              "-------\n",
              "Series or DataFrame\n",
              "    Summary statistics of the Series or Dataframe provided.\n",
              "\n",
              "See Also\n",
              "--------\n",
              "DataFrame.count: Count number of non-NA/null observations.\n",
              "DataFrame.max: Maximum of the values in the object.\n",
              "DataFrame.min: Minimum of the values in the object.\n",
              "DataFrame.mean: Mean of the values.\n",
              "DataFrame.std: Standard deviation of the observations.\n",
              "DataFrame.select_dtypes: Subset of a DataFrame including/excluding\n",
              "    columns based on their dtype.\n",
              "\n",
              "Notes\n",
              "-----\n",
              "For numeric data, the result&#x27;s index will include ``count``,\n",
              "``mean``, ``std``, ``min``, ``max`` as well as lower, ``50`` and\n",
              "upper percentiles. By default the lower percentile is ``25`` and the\n",
              "upper percentile is ``75``. The ``50`` percentile is the\n",
              "same as the median.\n",
              "\n",
              "For object data (e.g. strings or timestamps), the result&#x27;s index\n",
              "will include ``count``, ``unique``, ``top``, and ``freq``. The ``top``\n",
              "is the most common value. The ``freq`` is the most common value&#x27;s\n",
              "frequency. Timestamps also include the ``first`` and ``last`` items.\n",
              "\n",
              "If multiple object values have the highest count, then the\n",
              "``count`` and ``top`` results will be arbitrarily chosen from\n",
              "among those with the highest count.\n",
              "\n",
              "For mixed data types provided via a ``DataFrame``, the default is to\n",
              "return only an analysis of numeric columns. If the dataframe consists\n",
              "only of object and categorical data without any numeric columns, the\n",
              "default is to return an analysis of both the object and categorical\n",
              "columns. If ``include=&#x27;all&#x27;`` is provided as an option, the result\n",
              "will include a union of attributes of each type.\n",
              "\n",
              "The `include` and `exclude` parameters can be used to limit\n",
              "which columns in a ``DataFrame`` are analyzed for the output.\n",
              "The parameters are ignored when analyzing a ``Series``.\n",
              "\n",
              "Examples\n",
              "--------\n",
              "Describing a numeric ``Series``.\n",
              "\n",
              "&gt;&gt;&gt; s = pd.Series([1, 2, 3])\n",
              "&gt;&gt;&gt; s.describe()\n",
              "count    3.0\n",
              "mean     2.0\n",
              "std      1.0\n",
              "min      1.0\n",
              "25%      1.5\n",
              "50%      2.0\n",
              "75%      2.5\n",
              "max      3.0\n",
              "dtype: float64\n",
              "\n",
              "Describing a categorical ``Series``.\n",
              "\n",
              "&gt;&gt;&gt; s = pd.Series([&#x27;a&#x27;, &#x27;a&#x27;, &#x27;b&#x27;, &#x27;c&#x27;])\n",
              "&gt;&gt;&gt; s.describe()\n",
              "count     4\n",
              "unique    3\n",
              "top       a\n",
              "freq      2\n",
              "dtype: object\n",
              "\n",
              "Describing a timestamp ``Series``.\n",
              "\n",
              "&gt;&gt;&gt; s = pd.Series([\n",
              "...     np.datetime64(&quot;2000-01-01&quot;),\n",
              "...     np.datetime64(&quot;2010-01-01&quot;),\n",
              "...     np.datetime64(&quot;2010-01-01&quot;)\n",
              "... ])\n",
              "&gt;&gt;&gt; s.describe()\n",
              "count                      3\n",
              "mean     2006-09-01 08:00:00\n",
              "min      2000-01-01 00:00:00\n",
              "25%      2004-12-31 12:00:00\n",
              "50%      2010-01-01 00:00:00\n",
              "75%      2010-01-01 00:00:00\n",
              "max      2010-01-01 00:00:00\n",
              "dtype: object\n",
              "\n",
              "Describing a ``DataFrame``. By default only numeric fields\n",
              "are returned.\n",
              "\n",
              "&gt;&gt;&gt; df = pd.DataFrame({&#x27;categorical&#x27;: pd.Categorical([&#x27;d&#x27;, &#x27;e&#x27;, &#x27;f&#x27;]),\n",
              "...                    &#x27;numeric&#x27;: [1, 2, 3],\n",
              "...                    &#x27;object&#x27;: [&#x27;a&#x27;, &#x27;b&#x27;, &#x27;c&#x27;]\n",
              "...                    })\n",
              "&gt;&gt;&gt; df.describe()\n",
              "       numeric\n",
              "count      3.0\n",
              "mean       2.0\n",
              "std        1.0\n",
              "min        1.0\n",
              "25%        1.5\n",
              "50%        2.0\n",
              "75%        2.5\n",
              "max        3.0\n",
              "\n",
              "Describing all columns of a ``DataFrame`` regardless of data type.\n",
              "\n",
              "&gt;&gt;&gt; df.describe(include=&#x27;all&#x27;)  # doctest: +SKIP\n",
              "       categorical  numeric object\n",
              "count            3      3.0      3\n",
              "unique           3      NaN      3\n",
              "top              f      NaN      a\n",
              "freq             1      NaN      1\n",
              "mean           NaN      2.0    NaN\n",
              "std            NaN      1.0    NaN\n",
              "min            NaN      1.0    NaN\n",
              "25%            NaN      1.5    NaN\n",
              "50%            NaN      2.0    NaN\n",
              "75%            NaN      2.5    NaN\n",
              "max            NaN      3.0    NaN\n",
              "\n",
              "Describing a column from a ``DataFrame`` by accessing it as\n",
              "an attribute.\n",
              "\n",
              "&gt;&gt;&gt; df.numeric.describe()\n",
              "count    3.0\n",
              "mean     2.0\n",
              "std      1.0\n",
              "min      1.0\n",
              "25%      1.5\n",
              "50%      2.0\n",
              "75%      2.5\n",
              "max      3.0\n",
              "Name: numeric, dtype: float64\n",
              "\n",
              "Including only numeric columns in a ``DataFrame`` description.\n",
              "\n",
              "&gt;&gt;&gt; df.describe(include=[np.number])\n",
              "       numeric\n",
              "count      3.0\n",
              "mean       2.0\n",
              "std        1.0\n",
              "min        1.0\n",
              "25%        1.5\n",
              "50%        2.0\n",
              "75%        2.5\n",
              "max        3.0\n",
              "\n",
              "Including only string columns in a ``DataFrame`` description.\n",
              "\n",
              "&gt;&gt;&gt; df.describe(include=[object])  # doctest: +SKIP\n",
              "       object\n",
              "count       3\n",
              "unique      3\n",
              "top         a\n",
              "freq        1\n",
              "\n",
              "Including only categorical columns from a ``DataFrame`` description.\n",
              "\n",
              "&gt;&gt;&gt; df.describe(include=[&#x27;category&#x27;])\n",
              "       categorical\n",
              "count            3\n",
              "unique           3\n",
              "top              d\n",
              "freq             1\n",
              "\n",
              "Excluding numeric columns from a ``DataFrame`` description.\n",
              "\n",
              "&gt;&gt;&gt; df.describe(exclude=[np.number])  # doctest: +SKIP\n",
              "       categorical object\n",
              "count            3      3\n",
              "unique           3      3\n",
              "top              f      a\n",
              "freq             1      1\n",
              "\n",
              "Excluding object columns from a ``DataFrame`` description.\n",
              "\n",
              "&gt;&gt;&gt; df.describe(exclude=[object])  # doctest: +SKIP\n",
              "       categorical  numeric\n",
              "count            3      3.0\n",
              "unique           3      NaN\n",
              "top              f      NaN\n",
              "freq             1      NaN\n",
              "mean           NaN      2.0\n",
              "std            NaN      1.0\n",
              "min            NaN      1.0\n",
              "25%            NaN      1.5\n",
              "50%            NaN      2.0\n",
              "75%            NaN      2.5\n",
              "max            NaN      3.0</pre>\n",
              "      <script>\n",
              "      if (google.colab.kernel.accessAllowed && google.colab.files && google.colab.files.view) {\n",
              "        for (const element of document.querySelectorAll('.filepath')) {\n",
              "          element.style.display = 'block'\n",
              "          element.onclick = (event) => {\n",
              "            event.preventDefault();\n",
              "            event.stopPropagation();\n",
              "            google.colab.files.view(element.textContent, 11734);\n",
              "          };\n",
              "        }\n",
              "      }\n",
              "      for (const element of document.querySelectorAll('.function-repr-contents')) {\n",
              "        element.onclick = (event) => {\n",
              "          event.preventDefault();\n",
              "          event.stopPropagation();\n",
              "          element.classList.toggle('function-repr-contents-collapsed');\n",
              "        };\n",
              "      }\n",
              "      </script>\n",
              "      </div>"
            ]
          },
          "metadata": {},
          "execution_count": 348
        }
      ]
    },
    {
      "cell_type": "markdown",
      "source": [
        "## **5. Metode Simple Linear Regression (SLR)**  \n",
        "\n",
        "Kami ingin memprediksi berdasarkan beberapa variabel sebagai berikut:  \n",
        "\n",
        "**Variabel independen $x$ (predictor/fitur)**:  \n",
        "  - `ENGINESIZE` : Ukuran mesin  \n",
        "  - `CYLINDERS` : Jumlah silinder\n",
        "  - `FUELCONSUMPTION_CITY` : Konsumsi bahan bakar di city  \n",
        "  - `FUELCONSUMPTION_HWY` : Konsumsi bahan bakar di highway  \n",
        "\n",
        "**Variabel dependen $y$ (target/output)**:  \n",
        "  - `CO2EMISSIONS` : Emisi CO₂"
      ],
      "metadata": {
        "id": "LfGhmo3HHR0a"
      }
    },
    {
      "cell_type": "code",
      "source": [
        "df2 = df[[\"ENGINESIZE\" , \"CYLINDERS\", \"FUELCONSUMPTION_CITY\" , \"FUELCONSUMPTION_HWY\", \"CO2EMISSIONS\"]]\n",
        "df2.head()\n",
        "# Already cleaned"
      ],
      "metadata": {
        "colab": {
          "base_uri": "https://localhost:8080/",
          "height": 206
        },
        "id": "s3vGhYv0HJyz",
        "outputId": "4f60a987-5114-467c-8a50-9cecd4c7e1a5"
      },
      "execution_count": null,
      "outputs": [
        {
          "output_type": "execute_result",
          "data": {
            "text/plain": [
              "   ENGINESIZE  CYLINDERS  FUELCONSUMPTION_CITY  FUELCONSUMPTION_HWY  \\\n",
              "0         2.0          4                   9.9                  6.7   \n",
              "1         2.4          4                  11.2                  7.7   \n",
              "2         1.5          4                   6.0                  5.8   \n",
              "3         3.5          6                  12.7                  9.1   \n",
              "4         3.5          6                  12.1                  8.7   \n",
              "\n",
              "   CO2EMISSIONS  \n",
              "0           196  \n",
              "1           221  \n",
              "2           136  \n",
              "3           255  \n",
              "4           244  "
            ],
            "text/html": [
              "\n",
              "  <div id=\"df-1eeb678f-dde7-4951-86b8-5d129c5e2600\" class=\"colab-df-container\">\n",
              "    <div>\n",
              "<style scoped>\n",
              "    .dataframe tbody tr th:only-of-type {\n",
              "        vertical-align: middle;\n",
              "    }\n",
              "\n",
              "    .dataframe tbody tr th {\n",
              "        vertical-align: top;\n",
              "    }\n",
              "\n",
              "    .dataframe thead th {\n",
              "        text-align: right;\n",
              "    }\n",
              "</style>\n",
              "<table border=\"1\" class=\"dataframe\">\n",
              "  <thead>\n",
              "    <tr style=\"text-align: right;\">\n",
              "      <th></th>\n",
              "      <th>ENGINESIZE</th>\n",
              "      <th>CYLINDERS</th>\n",
              "      <th>FUELCONSUMPTION_CITY</th>\n",
              "      <th>FUELCONSUMPTION_HWY</th>\n",
              "      <th>CO2EMISSIONS</th>\n",
              "    </tr>\n",
              "  </thead>\n",
              "  <tbody>\n",
              "    <tr>\n",
              "      <th>0</th>\n",
              "      <td>2.0</td>\n",
              "      <td>4</td>\n",
              "      <td>9.9</td>\n",
              "      <td>6.7</td>\n",
              "      <td>196</td>\n",
              "    </tr>\n",
              "    <tr>\n",
              "      <th>1</th>\n",
              "      <td>2.4</td>\n",
              "      <td>4</td>\n",
              "      <td>11.2</td>\n",
              "      <td>7.7</td>\n",
              "      <td>221</td>\n",
              "    </tr>\n",
              "    <tr>\n",
              "      <th>2</th>\n",
              "      <td>1.5</td>\n",
              "      <td>4</td>\n",
              "      <td>6.0</td>\n",
              "      <td>5.8</td>\n",
              "      <td>136</td>\n",
              "    </tr>\n",
              "    <tr>\n",
              "      <th>3</th>\n",
              "      <td>3.5</td>\n",
              "      <td>6</td>\n",
              "      <td>12.7</td>\n",
              "      <td>9.1</td>\n",
              "      <td>255</td>\n",
              "    </tr>\n",
              "    <tr>\n",
              "      <th>4</th>\n",
              "      <td>3.5</td>\n",
              "      <td>6</td>\n",
              "      <td>12.1</td>\n",
              "      <td>8.7</td>\n",
              "      <td>244</td>\n",
              "    </tr>\n",
              "  </tbody>\n",
              "</table>\n",
              "</div>\n",
              "    <div class=\"colab-df-buttons\">\n",
              "\n",
              "  <div class=\"colab-df-container\">\n",
              "    <button class=\"colab-df-convert\" onclick=\"convertToInteractive('df-1eeb678f-dde7-4951-86b8-5d129c5e2600')\"\n",
              "            title=\"Convert this dataframe to an interactive table.\"\n",
              "            style=\"display:none;\">\n",
              "\n",
              "  <svg xmlns=\"http://www.w3.org/2000/svg\" height=\"24px\" viewBox=\"0 -960 960 960\">\n",
              "    <path d=\"M120-120v-720h720v720H120Zm60-500h600v-160H180v160Zm220 220h160v-160H400v160Zm0 220h160v-160H400v160ZM180-400h160v-160H180v160Zm440 0h160v-160H620v160ZM180-180h160v-160H180v160Zm440 0h160v-160H620v160Z\"/>\n",
              "  </svg>\n",
              "    </button>\n",
              "\n",
              "  <style>\n",
              "    .colab-df-container {\n",
              "      display:flex;\n",
              "      gap: 12px;\n",
              "    }\n",
              "\n",
              "    .colab-df-convert {\n",
              "      background-color: #E8F0FE;\n",
              "      border: none;\n",
              "      border-radius: 50%;\n",
              "      cursor: pointer;\n",
              "      display: none;\n",
              "      fill: #1967D2;\n",
              "      height: 32px;\n",
              "      padding: 0 0 0 0;\n",
              "      width: 32px;\n",
              "    }\n",
              "\n",
              "    .colab-df-convert:hover {\n",
              "      background-color: #E2EBFA;\n",
              "      box-shadow: 0px 1px 2px rgba(60, 64, 67, 0.3), 0px 1px 3px 1px rgba(60, 64, 67, 0.15);\n",
              "      fill: #174EA6;\n",
              "    }\n",
              "\n",
              "    .colab-df-buttons div {\n",
              "      margin-bottom: 4px;\n",
              "    }\n",
              "\n",
              "    [theme=dark] .colab-df-convert {\n",
              "      background-color: #3B4455;\n",
              "      fill: #D2E3FC;\n",
              "    }\n",
              "\n",
              "    [theme=dark] .colab-df-convert:hover {\n",
              "      background-color: #434B5C;\n",
              "      box-shadow: 0px 1px 3px 1px rgba(0, 0, 0, 0.15);\n",
              "      filter: drop-shadow(0px 1px 2px rgba(0, 0, 0, 0.3));\n",
              "      fill: #FFFFFF;\n",
              "    }\n",
              "  </style>\n",
              "\n",
              "    <script>\n",
              "      const buttonEl =\n",
              "        document.querySelector('#df-1eeb678f-dde7-4951-86b8-5d129c5e2600 button.colab-df-convert');\n",
              "      buttonEl.style.display =\n",
              "        google.colab.kernel.accessAllowed ? 'block' : 'none';\n",
              "\n",
              "      async function convertToInteractive(key) {\n",
              "        const element = document.querySelector('#df-1eeb678f-dde7-4951-86b8-5d129c5e2600');\n",
              "        const dataTable =\n",
              "          await google.colab.kernel.invokeFunction('convertToInteractive',\n",
              "                                                    [key], {});\n",
              "        if (!dataTable) return;\n",
              "\n",
              "        const docLinkHtml = 'Like what you see? Visit the ' +\n",
              "          '<a target=\"_blank\" href=https://colab.research.google.com/notebooks/data_table.ipynb>data table notebook</a>'\n",
              "          + ' to learn more about interactive tables.';\n",
              "        element.innerHTML = '';\n",
              "        dataTable['output_type'] = 'display_data';\n",
              "        await google.colab.output.renderOutput(dataTable, element);\n",
              "        const docLink = document.createElement('div');\n",
              "        docLink.innerHTML = docLinkHtml;\n",
              "        element.appendChild(docLink);\n",
              "      }\n",
              "    </script>\n",
              "  </div>\n",
              "\n",
              "\n",
              "<div id=\"df-f496dbb0-16f5-4240-a7a8-2ebec6cb6353\">\n",
              "  <button class=\"colab-df-quickchart\" onclick=\"quickchart('df-f496dbb0-16f5-4240-a7a8-2ebec6cb6353')\"\n",
              "            title=\"Suggest charts\"\n",
              "            style=\"display:none;\">\n",
              "\n",
              "<svg xmlns=\"http://www.w3.org/2000/svg\" height=\"24px\"viewBox=\"0 0 24 24\"\n",
              "     width=\"24px\">\n",
              "    <g>\n",
              "        <path d=\"M19 3H5c-1.1 0-2 .9-2 2v14c0 1.1.9 2 2 2h14c1.1 0 2-.9 2-2V5c0-1.1-.9-2-2-2zM9 17H7v-7h2v7zm4 0h-2V7h2v10zm4 0h-2v-4h2v4z\"/>\n",
              "    </g>\n",
              "</svg>\n",
              "  </button>\n",
              "\n",
              "<style>\n",
              "  .colab-df-quickchart {\n",
              "      --bg-color: #E8F0FE;\n",
              "      --fill-color: #1967D2;\n",
              "      --hover-bg-color: #E2EBFA;\n",
              "      --hover-fill-color: #174EA6;\n",
              "      --disabled-fill-color: #AAA;\n",
              "      --disabled-bg-color: #DDD;\n",
              "  }\n",
              "\n",
              "  [theme=dark] .colab-df-quickchart {\n",
              "      --bg-color: #3B4455;\n",
              "      --fill-color: #D2E3FC;\n",
              "      --hover-bg-color: #434B5C;\n",
              "      --hover-fill-color: #FFFFFF;\n",
              "      --disabled-bg-color: #3B4455;\n",
              "      --disabled-fill-color: #666;\n",
              "  }\n",
              "\n",
              "  .colab-df-quickchart {\n",
              "    background-color: var(--bg-color);\n",
              "    border: none;\n",
              "    border-radius: 50%;\n",
              "    cursor: pointer;\n",
              "    display: none;\n",
              "    fill: var(--fill-color);\n",
              "    height: 32px;\n",
              "    padding: 0;\n",
              "    width: 32px;\n",
              "  }\n",
              "\n",
              "  .colab-df-quickchart:hover {\n",
              "    background-color: var(--hover-bg-color);\n",
              "    box-shadow: 0 1px 2px rgba(60, 64, 67, 0.3), 0 1px 3px 1px rgba(60, 64, 67, 0.15);\n",
              "    fill: var(--button-hover-fill-color);\n",
              "  }\n",
              "\n",
              "  .colab-df-quickchart-complete:disabled,\n",
              "  .colab-df-quickchart-complete:disabled:hover {\n",
              "    background-color: var(--disabled-bg-color);\n",
              "    fill: var(--disabled-fill-color);\n",
              "    box-shadow: none;\n",
              "  }\n",
              "\n",
              "  .colab-df-spinner {\n",
              "    border: 2px solid var(--fill-color);\n",
              "    border-color: transparent;\n",
              "    border-bottom-color: var(--fill-color);\n",
              "    animation:\n",
              "      spin 1s steps(1) infinite;\n",
              "  }\n",
              "\n",
              "  @keyframes spin {\n",
              "    0% {\n",
              "      border-color: transparent;\n",
              "      border-bottom-color: var(--fill-color);\n",
              "      border-left-color: var(--fill-color);\n",
              "    }\n",
              "    20% {\n",
              "      border-color: transparent;\n",
              "      border-left-color: var(--fill-color);\n",
              "      border-top-color: var(--fill-color);\n",
              "    }\n",
              "    30% {\n",
              "      border-color: transparent;\n",
              "      border-left-color: var(--fill-color);\n",
              "      border-top-color: var(--fill-color);\n",
              "      border-right-color: var(--fill-color);\n",
              "    }\n",
              "    40% {\n",
              "      border-color: transparent;\n",
              "      border-right-color: var(--fill-color);\n",
              "      border-top-color: var(--fill-color);\n",
              "    }\n",
              "    60% {\n",
              "      border-color: transparent;\n",
              "      border-right-color: var(--fill-color);\n",
              "    }\n",
              "    80% {\n",
              "      border-color: transparent;\n",
              "      border-right-color: var(--fill-color);\n",
              "      border-bottom-color: var(--fill-color);\n",
              "    }\n",
              "    90% {\n",
              "      border-color: transparent;\n",
              "      border-bottom-color: var(--fill-color);\n",
              "    }\n",
              "  }\n",
              "</style>\n",
              "\n",
              "  <script>\n",
              "    async function quickchart(key) {\n",
              "      const quickchartButtonEl =\n",
              "        document.querySelector('#' + key + ' button');\n",
              "      quickchartButtonEl.disabled = true;  // To prevent multiple clicks.\n",
              "      quickchartButtonEl.classList.add('colab-df-spinner');\n",
              "      try {\n",
              "        const charts = await google.colab.kernel.invokeFunction(\n",
              "            'suggestCharts', [key], {});\n",
              "      } catch (error) {\n",
              "        console.error('Error during call to suggestCharts:', error);\n",
              "      }\n",
              "      quickchartButtonEl.classList.remove('colab-df-spinner');\n",
              "      quickchartButtonEl.classList.add('colab-df-quickchart-complete');\n",
              "    }\n",
              "    (() => {\n",
              "      let quickchartButtonEl =\n",
              "        document.querySelector('#df-f496dbb0-16f5-4240-a7a8-2ebec6cb6353 button');\n",
              "      quickchartButtonEl.style.display =\n",
              "        google.colab.kernel.accessAllowed ? 'block' : 'none';\n",
              "    })();\n",
              "  </script>\n",
              "</div>\n",
              "\n",
              "    </div>\n",
              "  </div>\n"
            ],
            "application/vnd.google.colaboratory.intrinsic+json": {
              "type": "dataframe",
              "summary": "{\n  \"name\": \"# Already cleaned\",\n  \"rows\": 5,\n  \"fields\": [\n    {\n      \"column\": \"ENGINESIZE\",\n      \"properties\": {\n        \"dtype\": \"number\",\n        \"std\": 0.8983317872590282,\n        \"min\": 1.5,\n        \"max\": 3.5,\n        \"num_unique_values\": 4,\n        \"samples\": [\n          2.4,\n          3.5,\n          2.0\n        ],\n        \"semantic_type\": \"\",\n        \"description\": \"\"\n      }\n    },\n    {\n      \"column\": \"CYLINDERS\",\n      \"properties\": {\n        \"dtype\": \"number\",\n        \"std\": 1,\n        \"min\": 4,\n        \"max\": 6,\n        \"num_unique_values\": 2,\n        \"samples\": [\n          6,\n          4\n        ],\n        \"semantic_type\": \"\",\n        \"description\": \"\"\n      }\n    },\n    {\n      \"column\": \"FUELCONSUMPTION_CITY\",\n      \"properties\": {\n        \"dtype\": \"number\",\n        \"std\": 2.6658957218916117,\n        \"min\": 6.0,\n        \"max\": 12.7,\n        \"num_unique_values\": 5,\n        \"samples\": [\n          11.2,\n          12.1\n        ],\n        \"semantic_type\": \"\",\n        \"description\": \"\"\n      }\n    },\n    {\n      \"column\": \"FUELCONSUMPTION_HWY\",\n      \"properties\": {\n        \"dtype\": \"number\",\n        \"std\": 1.3711309200802086,\n        \"min\": 5.8,\n        \"max\": 9.1,\n        \"num_unique_values\": 5,\n        \"samples\": [\n          7.7,\n          8.7\n        ],\n        \"semantic_type\": \"\",\n        \"description\": \"\"\n      }\n    },\n    {\n      \"column\": \"CO2EMISSIONS\",\n      \"properties\": {\n        \"dtype\": \"number\",\n        \"std\": 47,\n        \"min\": 136,\n        \"max\": 255,\n        \"num_unique_values\": 5,\n        \"samples\": [\n          221,\n          244\n        ],\n        \"semantic_type\": \"\",\n        \"description\": \"\"\n      }\n    }\n  ]\n}"
            }
          },
          "metadata": {},
          "execution_count": 349
        }
      ]
    },
    {
      "cell_type": "markdown",
      "source": [
        "Kode pada baris pertama berfungsi untuk membuat subset dari dataset utama df dengan hanya mengambil lima kolom yang relevan untuk analisis regresi linear.\n",
        "\n",
        "Fungsi *df2.head()* kemudian digunakan untuk menampilkan lima baris pertama dari dataset yang telah difilter, memungkinkan pengguna untuk melihat sekilas struktur dan isi data yang akan digunakan dalam pemodelan. Karena sebelumnya data sudah dibersihkan, dataset ini tidak mengandung nilai yang hilang (missing values)."
      ],
      "metadata": {
        "id": "axVQKZc65auE"
      }
    },
    {
      "cell_type": "markdown",
      "source": [
        "###**Visualisasi data dengan scatter plot**\n",
        "\n",
        "Kami membuat empat grafik scatter plot untuk memvisualisasikan hubungan antara variabel independen (`ENGINESIZE`, `CYLINDERS`, `FUELCONSUMPTION_CITY`, dan `FUELCONSUMPTION_HWY`) dengan variabel dependen (`CO2EMISSIONS`). Setiap scatter plot menampilkan distribusi data dan pola hubungan antara satu fitur dengan emisi CO₂, membantu dalam memahami korelasi sebelum melakukan pemodelan regresi linear."
      ],
      "metadata": {
        "id": "7k-2e0nbfwoV"
      }
    },
    {
      "cell_type": "markdown",
      "source": [
        "**Engine Size vs CO₂ Emissions**\n",
        "\n",
        "Scatter plot ini menunjukkan hubungan antara ukuran mesin (`ENGINESIZE`) dan emisi CO₂ (`CO2EMISSIONS`). Semakin besar ukuran mesin, semakin tinggi emisi CO₂ yang dihasilkan."
      ],
      "metadata": {
        "id": "MfmaJXn67X_I"
      }
    },
    {
      "cell_type": "code",
      "source": [
        "#visualisasi grafik engine size dan co2 emission\n",
        "x1 = df2[[\"ENGINESIZE\"]]   # Feature\n",
        "y = df2[[\"CO2EMISSIONS\"]] # target\n",
        "\n",
        "plt.scatter(x1,y)\n",
        "plt.xlabel(\"ENGINESIZE\")\n",
        "plt.ylabel(\" CO2EMISSIONS \")"
      ],
      "metadata": {
        "id": "Eq8dui0XHnt1",
        "outputId": "db928ff5-6ddc-42be-c1f3-12cd01ffb04f",
        "colab": {
          "base_uri": "https://localhost:8080/",
          "height": 466
        }
      },
      "execution_count": null,
      "outputs": [
        {
          "output_type": "execute_result",
          "data": {
            "text/plain": [
              "Text(0, 0.5, ' CO2EMISSIONS ')"
            ]
          },
          "metadata": {},
          "execution_count": 350
        },
        {
          "output_type": "display_data",
          "data": {
            "text/plain": [
              "<Figure size 640x480 with 1 Axes>"
            ],
            "image/png": "[encoded data removed]"
          },
          "metadata": {}
        }
      ]
    },
    {
      "cell_type": "markdown",
      "source": [
        "**Cylinders vs CO₂ Emissions**\n",
        "\n",
        "Grafik ini memperlihatkan pengaruh jumlah silinder (`CYLINDERS`) terhadap emisi CO₂ (`CO2EMISSIONS`). Kendaraan dengan lebih banyak silinder cenderung menghasilkan emisi CO₂ yang lebih tinggi."
      ],
      "metadata": {
        "id": "p5LnGdvP7zRl"
      }
    },
    {
      "cell_type": "code",
      "source": [
        "#visualisasi grafik cylinders dan co2 emission\n",
        "x2 = df2[[\"CYLINDERS\"]]   # Feature\n",
        "y = df2[[\"CO2EMISSIONS\"]] # target\n",
        "\n",
        "plt.scatter(x2,y)\n",
        "plt.xlabel(\"CYLINDERS\")\n",
        "plt.ylabel(\" CO2EMISSIONS \")"
      ],
      "metadata": {
        "colab": {
          "base_uri": "https://localhost:8080/",
          "height": 466
        },
        "id": "9CK_wvjHW8zR",
        "outputId": "cb9e59cc-299a-4495-9c89-679c31bc3df4"
      },
      "execution_count": null,
      "outputs": [
        {
          "output_type": "execute_result",
          "data": {
            "text/plain": [
              "Text(0, 0.5, ' CO2EMISSIONS ')"
            ]
          },
          "metadata": {},
          "execution_count": 351
        },
        {
          "output_type": "display_data",
          "data": {
            "text/plain": [
              "<Figure size 640x480 with 1 Axes>"
            ],
            "image/png": "[encoded data removed]"
          },
          "metadata": {}
        }
      ]
    },
    {
      "cell_type": "markdown",
      "source": [
        "**Fuel Consumption (City) vs CO₂ Emissions**\n",
        "\n",
        "Scatter plot ini menggambarkan hubungan antara konsumsi bahan bakar dalam kota (`FUELCONSUMPTION_CITY`) dan emisi CO₂(`CO2EMISSIONS`). Konsumsi bahan bakar yang lebih tinggi dalam kondisi perkotaan berbanding lurus dengan peningkatan emisi CO₂.  "
      ],
      "metadata": {
        "id": "1zpKeB308QMP"
      }
    },
    {
      "cell_type": "code",
      "source": [
        "#visualisasi grafik fuel consumption pada city dan co2 emission\n",
        "x3 = df2[[\"FUELCONSUMPTION_CITY\"]]   # Feature\n",
        "y = df2[[\"CO2EMISSIONS\"]] # target\n",
        "\n",
        "plt.scatter(x3,y)\n",
        "plt.xlabel(\"FUELCONSUMPTION_CITY\")\n",
        "plt.ylabel(\" CO2EMISSIONS \")"
      ],
      "metadata": {
        "colab": {
          "base_uri": "https://localhost:8080/",
          "height": 466
        },
        "id": "NBDljlRIXGMq",
        "outputId": "be187c0d-2e0b-46c8-c8c1-bdae0b2f8886"
      },
      "execution_count": null,
      "outputs": [
        {
          "output_type": "execute_result",
          "data": {
            "text/plain": [
              "Text(0, 0.5, ' CO2EMISSIONS ')"
            ]
          },
          "metadata": {},
          "execution_count": 352
        },
        {
          "output_type": "display_data",
          "data": {
            "text/plain": [
              "<Figure size 640x480 with 1 Axes>"
            ],
            "image/png": "[encoded data removed]"
          },
          "metadata": {}
        }
      ]
    },
    {
      "cell_type": "markdown",
      "source": [
        "**Fuel Consumption (Highway) vs CO₂ Emissions**\n",
        "\n",
        "Grafik ini menunjukkan korelasi antara konsumsi bahan bakar di jalan tol (`FUELCONSUMPTION_HWY`) dan emisi CO₂ (`CO2EMISSIONS`). Konsumsi bahan bakar di jalan tol umumnya lebih rendah dibandingkan di dalam kota. Tetap terdapat pola peningkatan emisi CO₂ seiring bertambahnya konsumsi bahan bakar di jalan tol."
      ],
      "metadata": {
        "id": "3GSPaOVK8x9e"
      }
    },
    {
      "cell_type": "code",
      "source": [
        "#visualisasi grafik fuel consumption pada highway dan co2 emission\n",
        "x4 = df2[[\"FUELCONSUMPTION_HWY\"]]   # Feature\n",
        "y = df2[[\"CO2EMISSIONS\"]] # target\n",
        "\n",
        "plt.scatter(x4,y)\n",
        "plt.xlabel(\"FUELCONSUMPTION_HWY\")\n",
        "plt.ylabel(\" CO2EMISSIONS \")"
      ],
      "metadata": {
        "colab": {
          "base_uri": "https://localhost:8080/",
          "height": 466
        },
        "id": "XpBr4-rdXU1R",
        "outputId": "8581ec5a-6cbb-47dc-8101-fe54ed4ece55"
      },
      "execution_count": null,
      "outputs": [
        {
          "output_type": "execute_result",
          "data": {
            "text/plain": [
              "Text(0, 0.5, ' CO2EMISSIONS ')"
            ]
          },
          "metadata": {},
          "execution_count": 353
        },
        {
          "output_type": "display_data",
          "data": {
            "text/plain": [
              "<Figure size 640x480 with 1 Axes>"
            ],
            "image/png": "[encoded data removed]"
          },
          "metadata": {}
        }
      ]
    },
    {
      "cell_type": "markdown",
      "source": [
        "**Defining Variable**\n",
        "\n",
        "Pada langkah ini, kami mendefinisikan variabel $x$ sebagai sekumpulan fitur independen (predictor) yang akan digunakan untuk memprediksi emisi CO₂, yaitu `ENGINESIZE`, `CYLINDERS`, `FUELCONSUMPTION_CITY`, dan `FUELCONSUMPTION_HWY`. Sementara itu, variabel $y$ didefinisikan sebagai target atau variabel dependen, yaitu `CO2EMISSIONS`. Dengan pemisahan ini, model regresi nantinya akan belajar bagaimana variabel-variabel fitur mempengaruhi nilai emisi CO₂."
      ],
      "metadata": {
        "id": "TQ2j3Hm29sGR"
      }
    },
    {
      "cell_type": "code",
      "source": [
        "x = df2[[\"ENGINESIZE\" , \"CYLINDERS\", \"FUELCONSUMPTION_CITY\" , \"FUELCONSUMPTION_HWY\"]]   # Feature\n",
        "y = df2[[\"CO2EMISSIONS\"]] # target"
      ],
      "metadata": {
        "id": "M4KhzcCsXbsx"
      },
      "execution_count": null,
      "outputs": []
    },
    {
      "cell_type": "markdown",
      "source": [
        "### **Membuat Model Multiple Linear Regression**  \n",
        "\n",
        "Pada supervised learning, kami perlu membagi data minimal menjadi dua bagian:  \n",
        "* **Data Training** – digunakan untuk melatih model  \n",
        "* **Data Testing** – digunakan untuk menguji performa model  \n",
        "\n",
        "Pembagian ini bisa dilakukan secara manual, misalnya dengan mengambil 50% data pertama sebagai data training dan sisanya sebagai data testing. Namun, cara yang lebih umum adalah menggunakan fungsi `train_test_split` dari library **scikit-learn**. Secara default, fungsi ini membagi data dengan proporsi 75% untuk training dan 25% untuk testing, tetapi proporsi ini bisa disesuaikan dengan parameter `test_size`.  \n",
        "\n",
        "Karena kami menggunakan **Multiple Linear Regression**, model akan belajar hubungan antara lebih dari satu fitur independen (`ENGINESIZE`, `CYLINDERS`, `FUELCONSUMPTION_CITY`, `FUELCONSUMPTION_HWY`) dengan variabel target (`CO2EMISSIONS`). Penggunaan `random_state` memastikan bahwa pembagian data bersifat **reproducible**, sehingga hasil eksperimen dapat diulang dengan dataset yang sama."
      ],
      "metadata": {
        "id": "hWm8NE0RIpiX"
      }
    },
    {
      "cell_type": "markdown",
      "source": [
        "####**Data Training and Data Testing Split**\n",
        "\n",
        "Kami membagi dataset menjadi **data training** dan **data testing** menggunakan fungsi `train_test_split` dari **scikit-learn**.  \n",
        "\n",
        "- Variabel **x_train** dan **y_train** berisi **70% data** yang digunakan untuk melatih model.\n",
        "\n",
        "- Variabel **x_test** dan **y_test** berisi **30% data** yang digunakan untuk menguji model.\n",
        "\n",
        "Parameter `random_state=1` memastikan bahwa pembagian data selalu sama setiap kali kode dijalankan, sehingga hasilnya dapat direproduksi.  \n",
        "\n",
        "Setelah pemisahan, **y_train** menampilkan target variabel `CO2EMISSIONS` dari **data training**, dan **x_test** menampilkan fitur `ENGINESIZE`, `CYLINDERS`, `FUELCONSUMPTION_CITY`, dan `FUELCONSUMPTION_HWY` dari **data testing**."
      ],
      "metadata": {
        "id": "YnJZY7J9_gGI"
      }
    },
    {
      "cell_type": "code",
      "source": [
        "from sklearn.model_selection import train_test_split as tts\n",
        "x_train , x_test ,y_train , y_test = tts(x,y, test_size=0.3 , random_state = 1)\n",
        "print(y_train)\n",
        "print(x_test)"
      ],
      "metadata": {
        "id": "h85-09jEIOcz",
        "colab": {
          "base_uri": "https://localhost:8080/"
        },
        "outputId": "6d78ea95-34a3-4c0e-b04d-5ae96bc24148"
      },
      "execution_count": null,
      "outputs": [
        {
          "output_type": "stream",
          "name": "stdout",
          "text": [
            "      CO2EMISSIONS\n",
            "69             356\n",
            "697            196\n",
            "705            170\n",
            "521            244\n",
            "474            322\n",
            "...            ...\n",
            "847            200\n",
            "715            175\n",
            "905            292\n",
            "235            244\n",
            "1061           258\n",
            "\n",
            "[746 rows x 1 columns]\n",
            "     ENGINESIZE  CYLINDERS  FUELCONSUMPTION_CITY  FUELCONSUMPTION_HWY\n",
            "133         3.0          6                  13.6                  9.8\n",
            "340         1.4          4                  10.0                  7.2\n",
            "948         2.0          4                   9.6                  7.1\n",
            "704         2.0          4                   8.0                  5.8\n",
            "661         4.6          8                  15.7                 11.8\n",
            "..          ...        ...                   ...                  ...\n",
            "538         5.6          8                  15.0                 10.2\n",
            "106         4.4          8                  15.0                  9.8\n",
            "923         6.6         12                  19.1                 12.3\n",
            "23          2.0          4                  11.5                  8.1\n",
            "920         3.6          6                  13.3                  9.1\n",
            "\n",
            "[321 rows x 4 columns]\n"
          ]
        }
      ]
    },
    {
      "cell_type": "markdown",
      "source": [
        "Linear Regression ada di ScikitLearn dengan fungsi LinearRegression(). Membuat model dengan method `.fit`\n",
        "\n",
        "Pada langkah ini, kami membuat **model regresi linear** menggunakan **Scikit-Learn** dengan fungsi `LinearRegression()`.  \n",
        "\n",
        "1. **Membuat objek model** [`simple_lr_model = LinearRegression()`] → yang akan digunakan untuk membangun hubungan antara fitur (x) dan target (y).  \n",
        "2. **Melatih model (fitting)** [`simple_lr_model.fit(x_train, y_train)`] → di mana model mempelajari hubungan antara variabel independen (**x_train**) dan variabel dependen (**y_train**) berdasarkan data training.  \n",
        "\n",
        "Setelah proses ini, model siap digunakan untuk melakukan prediksi terhadap data baru."
      ],
      "metadata": {
        "id": "r-wEawBPiTkK"
      }
    },
    {
      "cell_type": "code",
      "source": [
        "from sklearn.linear_model import LinearRegression\n",
        "simple_lr_model = LinearRegression()\n",
        "\n",
        "# proses utama pembuatan model (model fitting)\n",
        "simple_lr_model.fit(x_train,y_train)"
      ],
      "metadata": {
        "id": "60cgLTKSIhH9",
        "colab": {
          "base_uri": "https://localhost:8080/",
          "height": 80
        },
        "outputId": "9e8228c2-2f6d-4f01-8443-802d73904ec9"
      },
      "execution_count": null,
      "outputs": [
        {
          "output_type": "execute_result",
          "data": {
            "text/plain": [
              "LinearRegression()"
            ],
            "text/html": [
              "<style>#sk-container-id-9 {\n",
              "  /* Definition of color scheme common for light and dark mode */\n",
              "  --sklearn-color-text: #000;\n",
              "  --sklearn-color-text-muted: #666;\n",
              "  --sklearn-color-line: gray;\n",
              "  /* Definition of color scheme for unfitted estimators */\n",
              "  --sklearn-color-unfitted-level-0: #fff5e6;\n",
              "  --sklearn-color-unfitted-level-1: #f6e4d2;\n",
              "  --sklearn-color-unfitted-level-2: #ffe0b3;\n",
              "  --sklearn-color-unfitted-level-3: chocolate;\n",
              "  /* Definition of color scheme for fitted estimators */\n",
              "  --sklearn-color-fitted-level-0: #f0f8ff;\n",
              "  --sklearn-color-fitted-level-1: #d4ebff;\n",
              "  --sklearn-color-fitted-level-2: #b3dbfd;\n",
              "  --sklearn-color-fitted-level-3: cornflowerblue;\n",
              "\n",
              "  /* Specific color for light theme */\n",
              "  --sklearn-color-text-on-default-background: var(--sg-text-color, var(--theme-code-foreground, var(--jp-content-font-color1, black)));\n",
              "  --sklearn-color-background: var(--sg-background-color, var(--theme-background, var(--jp-layout-color0, white)));\n",
              "  --sklearn-color-border-box: var(--sg-text-color, var(--theme-code-foreground, var(--jp-content-font-color1, black)));\n",
              "  --sklearn-color-icon: #696969;\n",
              "\n",
              "  @media (prefers-color-scheme: dark) {\n",
              "    /* Redefinition of color scheme for dark theme */\n",
              "    --sklearn-color-text-on-default-background: var(--sg-text-color, var(--theme-code-foreground, var(--jp-content-font-color1, white)));\n",
              "    --sklearn-color-background: var(--sg-background-color, var(--theme-background, var(--jp-layout-color0, #111)));\n",
              "    --sklearn-color-border-box: var(--sg-text-color, var(--theme-code-foreground, var(--jp-content-font-color1, white)));\n",
              "    --sklearn-color-icon: #878787;\n",
              "  }\n",
              "}\n",
              "\n",
              "#sk-container-id-9 {\n",
              "  color: var(--sklearn-color-text);\n",
              "}\n",
              "\n",
              "#sk-container-id-9 pre {\n",
              "  padding: 0;\n",
              "}\n",
              "\n",
              "#sk-container-id-9 input.sk-hidden--visually {\n",
              "  border: 0;\n",
              "  clip: rect(1px 1px 1px 1px);\n",
              "  clip: rect(1px, 1px, 1px, 1px);\n",
              "  height: 1px;\n",
              "  margin: -1px;\n",
              "  overflow: hidden;\n",
              "  padding: 0;\n",
              "  position: absolute;\n",
              "  width: 1px;\n",
              "}\n",
              "\n",
              "#sk-container-id-9 div.sk-dashed-wrapped {\n",
              "  border: 1px dashed var(--sklearn-color-line);\n",
              "  margin: 0 0.4em 0.5em 0.4em;\n",
              "  box-sizing: border-box;\n",
              "  padding-bottom: 0.4em;\n",
              "  background-color: var(--sklearn-color-background);\n",
              "}\n",
              "\n",
              "#sk-container-id-9 div.sk-container {\n",
              "  /* jupyter's `normalize.less` sets `[hidden] { display: none; }`\n",
              "     but bootstrap.min.css set `[hidden] { display: none !important; }`\n",
              "     so we also need the `!important` here to be able to override the\n",
              "     default hidden behavior on the sphinx rendered scikit-learn.org.\n",
              "     See: https://github.com/scikit-learn/scikit-learn/issues/21755 */\n",
              "  display: inline-block !important;\n",
              "  position: relative;\n",
              "}\n",
              "\n",
              "#sk-container-id-9 div.sk-text-repr-fallback {\n",
              "  display: none;\n",
              "}\n",
              "\n",
              "div.sk-parallel-item,\n",
              "div.sk-serial,\n",
              "div.sk-item {\n",
              "  /* draw centered vertical line to link estimators */\n",
              "  background-image: linear-gradient(var(--sklearn-color-text-on-default-background), var(--sklearn-color-text-on-default-background));\n",
              "  background-size: 2px 100%;\n",
              "  background-repeat: no-repeat;\n",
              "  background-position: center center;\n",
              "}\n",
              "\n",
              "/* Parallel-specific style estimator block */\n",
              "\n",
              "#sk-container-id-9 div.sk-parallel-item::after {\n",
              "  content: \"\";\n",
              "  width: 100%;\n",
              "  border-bottom: 2px solid var(--sklearn-color-text-on-default-background);\n",
              "  flex-grow: 1;\n",
              "}\n",
              "\n",
              "#sk-container-id-9 div.sk-parallel {\n",
              "  display: flex;\n",
              "  align-items: stretch;\n",
              "  justify-content: center;\n",
              "  background-color: var(--sklearn-color-background);\n",
              "  position: relative;\n",
              "}\n",
              "\n",
              "#sk-container-id-9 div.sk-parallel-item {\n",
              "  display: flex;\n",
              "  flex-direction: column;\n",
              "}\n",
              "\n",
              "#sk-container-id-9 div.sk-parallel-item:first-child::after {\n",
              "  align-self: flex-end;\n",
              "  width: 50%;\n",
              "}\n",
              "\n",
              "#sk-container-id-9 div.sk-parallel-item:last-child::after {\n",
              "  align-self: flex-start;\n",
              "  width: 50%;\n",
              "}\n",
              "\n",
              "#sk-container-id-9 div.sk-parallel-item:only-child::after {\n",
              "  width: 0;\n",
              "}\n",
              "\n",
              "/* Serial-specific style estimator block */\n",
              "\n",
              "#sk-container-id-9 div.sk-serial {\n",
              "  display: flex;\n",
              "  flex-direction: column;\n",
              "  align-items: center;\n",
              "  background-color: var(--sklearn-color-background);\n",
              "  padding-right: 1em;\n",
              "  padding-left: 1em;\n",
              "}\n",
              "\n",
              "\n",
              "/* Toggleable style: style used for estimator/Pipeline/ColumnTransformer box that is\n",
              "clickable and can be expanded/collapsed.\n",
              "- Pipeline and ColumnTransformer use this feature and define the default style\n",
              "- Estimators will overwrite some part of the style using the `sk-estimator` class\n",
              "*/\n",
              "\n",
              "/* Pipeline and ColumnTransformer style (default) */\n",
              "\n",
              "#sk-container-id-9 div.sk-toggleable {\n",
              "  /* Default theme specific background. It is overwritten whether we have a\n",
              "  specific estimator or a Pipeline/ColumnTransformer */\n",
              "  background-color: var(--sklearn-color-background);\n",
              "}\n",
              "\n",
              "/* Toggleable label */\n",
              "#sk-container-id-9 label.sk-toggleable__label {\n",
              "  cursor: pointer;\n",
              "  display: flex;\n",
              "  width: 100%;\n",
              "  margin-bottom: 0;\n",
              "  padding: 0.5em;\n",
              "  box-sizing: border-box;\n",
              "  text-align: center;\n",
              "  align-items: start;\n",
              "  justify-content: space-between;\n",
              "  gap: 0.5em;\n",
              "}\n",
              "\n",
              "#sk-container-id-9 label.sk-toggleable__label .caption {\n",
              "  font-size: 0.6rem;\n",
              "  font-weight: lighter;\n",
              "  color: var(--sklearn-color-text-muted);\n",
              "}\n",
              "\n",
              "#sk-container-id-9 label.sk-toggleable__label-arrow:before {\n",
              "  /* Arrow on the left of the label */\n",
              "  content: \"▸\";\n",
              "  float: left;\n",
              "  margin-right: 0.25em;\n",
              "  color: var(--sklearn-color-icon);\n",
              "}\n",
              "\n",
              "#sk-container-id-9 label.sk-toggleable__label-arrow:hover:before {\n",
              "  color: var(--sklearn-color-text);\n",
              "}\n",
              "\n",
              "/* Toggleable content - dropdown */\n",
              "\n",
              "#sk-container-id-9 div.sk-toggleable__content {\n",
              "  max-height: 0;\n",
              "  max-width: 0;\n",
              "  overflow: hidden;\n",
              "  text-align: left;\n",
              "  /* unfitted */\n",
              "  background-color: var(--sklearn-color-unfitted-level-0);\n",
              "}\n",
              "\n",
              "#sk-container-id-9 div.sk-toggleable__content.fitted {\n",
              "  /* fitted */\n",
              "  background-color: var(--sklearn-color-fitted-level-0);\n",
              "}\n",
              "\n",
              "#sk-container-id-9 div.sk-toggleable__content pre {\n",
              "  margin: 0.2em;\n",
              "  border-radius: 0.25em;\n",
              "  color: var(--sklearn-color-text);\n",
              "  /* unfitted */\n",
              "  background-color: var(--sklearn-color-unfitted-level-0);\n",
              "}\n",
              "\n",
              "#sk-container-id-9 div.sk-toggleable__content.fitted pre {\n",
              "  /* unfitted */\n",
              "  background-color: var(--sklearn-color-fitted-level-0);\n",
              "}\n",
              "\n",
              "#sk-container-id-9 input.sk-toggleable__control:checked~div.sk-toggleable__content {\n",
              "  /* Expand drop-down */\n",
              "  max-height: 200px;\n",
              "  max-width: 100%;\n",
              "  overflow: auto;\n",
              "}\n",
              "\n",
              "#sk-container-id-9 input.sk-toggleable__control:checked~label.sk-toggleable__label-arrow:before {\n",
              "  content: \"▾\";\n",
              "}\n",
              "\n",
              "/* Pipeline/ColumnTransformer-specific style */\n",
              "\n",
              "#sk-container-id-9 div.sk-label input.sk-toggleable__control:checked~label.sk-toggleable__label {\n",
              "  color: var(--sklearn-color-text);\n",
              "  background-color: var(--sklearn-color-unfitted-level-2);\n",
              "}\n",
              "\n",
              "#sk-container-id-9 div.sk-label.fitted input.sk-toggleable__control:checked~label.sk-toggleable__label {\n",
              "  background-color: var(--sklearn-color-fitted-level-2);\n",
              "}\n",
              "\n",
              "/* Estimator-specific style */\n",
              "\n",
              "/* Colorize estimator box */\n",
              "#sk-container-id-9 div.sk-estimator input.sk-toggleable__control:checked~label.sk-toggleable__label {\n",
              "  /* unfitted */\n",
              "  background-color: var(--sklearn-color-unfitted-level-2);\n",
              "}\n",
              "\n",
              "#sk-container-id-9 div.sk-estimator.fitted input.sk-toggleable__control:checked~label.sk-toggleable__label {\n",
              "  /* fitted */\n",
              "  background-color: var(--sklearn-color-fitted-level-2);\n",
              "}\n",
              "\n",
              "#sk-container-id-9 div.sk-label label.sk-toggleable__label,\n",
              "#sk-container-id-9 div.sk-label label {\n",
              "  /* The background is the default theme color */\n",
              "  color: var(--sklearn-color-text-on-default-background);\n",
              "}\n",
              "\n",
              "/* On hover, darken the color of the background */\n",
              "#sk-container-id-9 div.sk-label:hover label.sk-toggleable__label {\n",
              "  color: var(--sklearn-color-text);\n",
              "  background-color: var(--sklearn-color-unfitted-level-2);\n",
              "}\n",
              "\n",
              "/* Label box, darken color on hover, fitted */\n",
              "#sk-container-id-9 div.sk-label.fitted:hover label.sk-toggleable__label.fitted {\n",
              "  color: var(--sklearn-color-text);\n",
              "  background-color: var(--sklearn-color-fitted-level-2);\n",
              "}\n",
              "\n",
              "/* Estimator label */\n",
              "\n",
              "#sk-container-id-9 div.sk-label label {\n",
              "  font-family: monospace;\n",
              "  font-weight: bold;\n",
              "  display: inline-block;\n",
              "  line-height: 1.2em;\n",
              "}\n",
              "\n",
              "#sk-container-id-9 div.sk-label-container {\n",
              "  text-align: center;\n",
              "}\n",
              "\n",
              "/* Estimator-specific */\n",
              "#sk-container-id-9 div.sk-estimator {\n",
              "  font-family: monospace;\n",
              "  border: 1px dotted var(--sklearn-color-border-box);\n",
              "  border-radius: 0.25em;\n",
              "  box-sizing: border-box;\n",
              "  margin-bottom: 0.5em;\n",
              "  /* unfitted */\n",
              "  background-color: var(--sklearn-color-unfitted-level-0);\n",
              "}\n",
              "\n",
              "#sk-container-id-9 div.sk-estimator.fitted {\n",
              "  /* fitted */\n",
              "  background-color: var(--sklearn-color-fitted-level-0);\n",
              "}\n",
              "\n",
              "/* on hover */\n",
              "#sk-container-id-9 div.sk-estimator:hover {\n",
              "  /* unfitted */\n",
              "  background-color: var(--sklearn-color-unfitted-level-2);\n",
              "}\n",
              "\n",
              "#sk-container-id-9 div.sk-estimator.fitted:hover {\n",
              "  /* fitted */\n",
              "  background-color: var(--sklearn-color-fitted-level-2);\n",
              "}\n",
              "\n",
              "/* Specification for estimator info (e.g. \"i\" and \"?\") */\n",
              "\n",
              "/* Common style for \"i\" and \"?\" */\n",
              "\n",
              ".sk-estimator-doc-link,\n",
              "a:link.sk-estimator-doc-link,\n",
              "a:visited.sk-estimator-doc-link {\n",
              "  float: right;\n",
              "  font-size: smaller;\n",
              "  line-height: 1em;\n",
              "  font-family: monospace;\n",
              "  background-color: var(--sklearn-color-background);\n",
              "  border-radius: 1em;\n",
              "  height: 1em;\n",
              "  width: 1em;\n",
              "  text-decoration: none !important;\n",
              "  margin-left: 0.5em;\n",
              "  text-align: center;\n",
              "  /* unfitted */\n",
              "  border: var(--sklearn-color-unfitted-level-1) 1pt solid;\n",
              "  color: var(--sklearn-color-unfitted-level-1);\n",
              "}\n",
              "\n",
              ".sk-estimator-doc-link.fitted,\n",
              "a:link.sk-estimator-doc-link.fitted,\n",
              "a:visited.sk-estimator-doc-link.fitted {\n",
              "  /* fitted */\n",
              "  border: var(--sklearn-color-fitted-level-1) 1pt solid;\n",
              "  color: var(--sklearn-color-fitted-level-1);\n",
              "}\n",
              "\n",
              "/* On hover */\n",
              "div.sk-estimator:hover .sk-estimator-doc-link:hover,\n",
              ".sk-estimator-doc-link:hover,\n",
              "div.sk-label-container:hover .sk-estimator-doc-link:hover,\n",
              ".sk-estimator-doc-link:hover {\n",
              "  /* unfitted */\n",
              "  background-color: var(--sklearn-color-unfitted-level-3);\n",
              "  color: var(--sklearn-color-background);\n",
              "  text-decoration: none;\n",
              "}\n",
              "\n",
              "div.sk-estimator.fitted:hover .sk-estimator-doc-link.fitted:hover,\n",
              ".sk-estimator-doc-link.fitted:hover,\n",
              "div.sk-label-container:hover .sk-estimator-doc-link.fitted:hover,\n",
              ".sk-estimator-doc-link.fitted:hover {\n",
              "  /* fitted */\n",
              "  background-color: var(--sklearn-color-fitted-level-3);\n",
              "  color: var(--sklearn-color-background);\n",
              "  text-decoration: none;\n",
              "}\n",
              "\n",
              "/* Span, style for the box shown on hovering the info icon */\n",
              ".sk-estimator-doc-link span {\n",
              "  display: none;\n",
              "  z-index: 9999;\n",
              "  position: relative;\n",
              "  font-weight: normal;\n",
              "  right: .2ex;\n",
              "  padding: .5ex;\n",
              "  margin: .5ex;\n",
              "  width: min-content;\n",
              "  min-width: 20ex;\n",
              "  max-width: 50ex;\n",
              "  color: var(--sklearn-color-text);\n",
              "  box-shadow: 2pt 2pt 4pt #999;\n",
              "  /* unfitted */\n",
              "  background: var(--sklearn-color-unfitted-level-0);\n",
              "  border: .5pt solid var(--sklearn-color-unfitted-level-3);\n",
              "}\n",
              "\n",
              ".sk-estimator-doc-link.fitted span {\n",
              "  /* fitted */\n",
              "  background: var(--sklearn-color-fitted-level-0);\n",
              "  border: var(--sklearn-color-fitted-level-3);\n",
              "}\n",
              "\n",
              ".sk-estimator-doc-link:hover span {\n",
              "  display: block;\n",
              "}\n",
              "\n",
              "/* \"?\"-specific style due to the `<a>` HTML tag */\n",
              "\n",
              "#sk-container-id-9 a.estimator_doc_link {\n",
              "  float: right;\n",
              "  font-size: 1rem;\n",
              "  line-height: 1em;\n",
              "  font-family: monospace;\n",
              "  background-color: var(--sklearn-color-background);\n",
              "  border-radius: 1rem;\n",
              "  height: 1rem;\n",
              "  width: 1rem;\n",
              "  text-decoration: none;\n",
              "  /* unfitted */\n",
              "  color: var(--sklearn-color-unfitted-level-1);\n",
              "  border: var(--sklearn-color-unfitted-level-1) 1pt solid;\n",
              "}\n",
              "\n",
              "#sk-container-id-9 a.estimator_doc_link.fitted {\n",
              "  /* fitted */\n",
              "  border: var(--sklearn-color-fitted-level-1) 1pt solid;\n",
              "  color: var(--sklearn-color-fitted-level-1);\n",
              "}\n",
              "\n",
              "/* On hover */\n",
              "#sk-container-id-9 a.estimator_doc_link:hover {\n",
              "  /* unfitted */\n",
              "  background-color: var(--sklearn-color-unfitted-level-3);\n",
              "  color: var(--sklearn-color-background);\n",
              "  text-decoration: none;\n",
              "}\n",
              "\n",
              "#sk-container-id-9 a.estimator_doc_link.fitted:hover {\n",
              "  /* fitted */\n",
              "  background-color: var(--sklearn-color-fitted-level-3);\n",
              "}\n",
              "</style><div id=\"sk-container-id-9\" class=\"sk-top-container\"><div class=\"sk-text-repr-fallback\"><pre>LinearRegression()</pre><b>In a Jupyter environment, please rerun this cell to show the HTML representation or trust the notebook. <br />On GitHub, the HTML representation is unable to render, please try loading this page with nbviewer.org.</b></div><div class=\"sk-container\" hidden><div class=\"sk-item\"><div class=\"sk-estimator fitted sk-toggleable\"><input class=\"sk-toggleable__control sk-hidden--visually\" id=\"sk-estimator-id-9\" type=\"checkbox\" checked><label for=\"sk-estimator-id-9\" class=\"sk-toggleable__label fitted sk-toggleable__label-arrow\"><div><div>LinearRegression</div></div><div><a class=\"sk-estimator-doc-link fitted\" rel=\"noreferrer\" target=\"_blank\" href=\"https://scikit-learn.org/1.6/modules/generated/sklearn.linear_model.LinearRegression.html\">?<span>Documentation for LinearRegression</span></a><span class=\"sk-estimator-doc-link fitted\">i<span>Fitted</span></span></div></label><div class=\"sk-toggleable__content fitted\"><pre>LinearRegression()</pre></div> </div></div></div></div>"
            ]
          },
          "metadata": {},
          "execution_count": 356
        }
      ]
    },
    {
      "cell_type": "markdown",
      "source": [
        "Sampai di sini sebenarnya pembuatan model machine learning sudah selesai. Tetapi kita butuh untuk mengetes seberapa baik model yang sudah kita buat. Hal ini dinyatakan dengan seberapa dekat hasil prediksi yang dibuat oleh model, dengan nilai seharusnya.\n",
        "\n",
        "Untuk regresi, biasanya metrik ukuran yang sering digunakan ada 4:\n",
        "* **MAE (Mean absolute error)** adalah rata-rata perbedaan absolut dari nilai sebenarnya dan nilai hasil prediksi dari kumpulan data\n",
        "* **MSE (Mean Squared Error)** adalah kuadrat dari rata-rata  perbedaan antara nilai sebenarnya dan nilai hasil prediksi dari kumpulan data.\n",
        "* **RMSE (Root Mean Squared Error**) adalah nilai akar-kuadrat dari MSE.\n",
        "* **R-squared (Coefficient of determination)** mewakili koefisien seberapa baik nilai-nilai tersebut dibandingkan dengan nilai aslinya (goodness of fit). R-squared bernilai 0 sampai 1. Semakin tinggi nilainya (semakin mendekati 1), semakin baik modelnya."
      ],
      "metadata": {
        "id": "4-vpMEFqiy8q"
      }
    },
    {
      "cell_type": "markdown",
      "source": [
        "#### **Training Error**\n",
        "\n",
        "Pertama, kami menghitung terlebih dahulu **training error**, yang menyatakan besarnya eror terhadap data training (data yang digunakan untuk membuat model).\n",
        "\n",
        "Pada langkah ini, kami mengevaluasi performa model dengan menghitung **training error**, yaitu seberapa baik model memprediksi data yang digunakan dalam pelatihan (**x_train**).  \n",
        "\n",
        "1. **Membuat prediksi pada data training**  [`y_train_pred = simple_lr_model.predict(x_train)`] → di mana model yang telah dilatih digunakan untuk memprediksi nilai `CO2EMISSIONS` berdasarkan data training.  \n",
        "2. **Menghitung metrik evaluasi**\n",
        "   - **R² Score (`r2_score`)** → Mengukur sejauh mana model menjelaskan variasi dalam data. Nilai mendekati **1** berarti model memiliki prediksi yang baik.  \n",
        "   - **MSE (Mean Squared Error)** → Menghitung rata-rata kuadrat selisih antara nilai prediksi dan nilai sebenarnya.  \n",
        "   - **RMSE (Root Mean Squared Error)** → Akar kuadrat dari **MSE**, memberikan interpretasi dalam satuan yang sama dengan variabel target.  \n",
        "\n",
        "Hasil metrik ini menunjukkan seberapa baik model mempelajari pola dalam data training. Jika error terlalu besar, model mungkin perlu diperbaiki atau ditingkatkan.\n",
        "\n",
        "Hasil evaluasi menunjukkan bahwa model memiliki **R² = 0.84** yang berarti model dapat menjelaskan **84% variasi** dalam data training, menunjukkan performa yang cukup baik. **MSE = 537.29** dan **RMSE = 23.18** menunjukkan tingkat kesalahan dalam satuan CO₂ emissions, di mana rata-rata prediksi memiliki deviasi sekitar **23.18** dari nilai sebenarnya. Meskipun error masih ada, nilai R² yang cukup tinggi menunjukkan bahwa model telah berhasil menangkap pola utama dalam data."
      ],
      "metadata": {
        "id": "bMXtgH8jEZ4S"
      }
    },
    {
      "cell_type": "code",
      "source": [
        "# hasil prediksi y dari data train\n",
        "y_train_pred = simple_lr_model.predict(x_train)\n",
        "\n",
        "from sklearn.metrics import r2_score\n",
        "from sklearn.metrics import mean_squared_error\n",
        "\n",
        "print(\"R2 Value : \", r2_score(y_train_pred , y_train))\n",
        "print(\"MSE Value : \",mean_squared_error(y_train_pred, y_train))\n",
        "print(\"RMSE Value : \",np.sqrt(mean_squared_error(y_train_pred, y_train)))"
      ],
      "metadata": {
        "id": "R4toIU0JJAHj",
        "colab": {
          "base_uri": "https://localhost:8080/"
        },
        "outputId": "f8ff9d6d-8b4c-48be-a307-480fc31c49da"
      },
      "execution_count": null,
      "outputs": [
        {
          "output_type": "stream",
          "name": "stdout",
          "text": [
            "R2 Value :  0.8405535824620628\n",
            "MSE Value :  537.2955525920224\n",
            "RMSE Value :  23.17963659318287\n"
          ]
        }
      ]
    },
    {
      "cell_type": "markdown",
      "source": [
        "####**Testing Error**\n",
        "\n",
        "Kemudian, kami menghitung **testing error**,  yang menyatakan besarnya eror terhadap data testing. Testing eror inilah yang sering digunakan untuk menyatakan keberhasilan membuat model dan dapat dibandingkan dengan akurasi pembuatan model dengan algoritma yang lain untuk mencari mana yang terbaik.\n",
        "\n",
        "Pada langkah ini, kami mengevaluasi performa model dengan menghitung **testing error**, yaitu seberapa baik model memprediksi data yang **tidak digunakan dalam pelatihan** (`x_test`).  \n",
        "\n",
        "1. **Membuat prediksi pada data uji** [`y_pred = simple_lr_model.predict(x_test)`] → Model yang telah dilatih digunakan untuk memprediksi nilai **CO2EMISSIONS** berdasarkan data uji (`x_test`).  \n",
        "\n",
        "2. **Menghitung metrik evaluasi**  \n",
        "   - **R² Score (`r2_score`)** → Mengukur sejauh mana model menjelaskan variasi dalam data uji. Nilai yang mendekati **1** menunjukkan model yang baik.  \n",
        "   - **MSE (Mean Squared Error)** → Menghitung rata-rata kuadrat selisih antara nilai prediksi (`y_pred`) dan nilai sebenarnya (`y_test`). Semakin kecil nilainya, semakin baik modelnya.  \n",
        "   - **RMSE (Root Mean Squared Error)** → Akar kuadrat dari **MSE**, memberikan interpretasi dalam satuan yang sama dengan variabel target (**CO2EMISSIONS**).  \n",
        "\n",
        "Perbedaan antara **training error** dan **testing error** dapat membantu mengidentifikasi **overfitting** atau **underfitting**. Jika hasilnya cukup stabil seperti dalam kasus ini, berarti model memiliki **generalisasi yang baik** terhadap data baru.\n",
        "\n",
        "Hasilnya, **R² = 0.84** menunjukkan bahwa model masih dapat menjelaskan sekitar **84% variasi** dalam data uji, yang konsisten dengan hasil training. **MSE = 565.19** dan **RMSE = 23.77** menunjukkan tingkat kesalahan dalam prediksi, yang sedikit lebih tinggi dibandingkan dengan training error. Jika perbedaan antara training dan testing error besar, maka hal itu merupakan indikasi overfitting. Tetapi dalam model kami, hasil yang didapatkan cukup stabil, menunjukkan bahwa model dapat melakukan generalisasi dengan baik."
      ],
      "metadata": {
        "id": "7emcz43rlXrq"
      }
    },
    {
      "cell_type": "code",
      "source": [
        "# hasil prediksi y dari data test\n",
        "y_pred = simple_lr_model.predict(x_test)\n",
        "\n",
        "print(\"R2 Value : \", r2_score(y_pred , y_test))\n",
        "print(\"MSE Value : \",mean_squared_error(y_pred, y_test))\n",
        "print(\"RMSE Value : \",np.sqrt(mean_squared_error(y_pred, y_test)))"
      ],
      "metadata": {
        "id": "V1iEM4F9JFY4",
        "colab": {
          "base_uri": "https://localhost:8080/"
        },
        "outputId": "20b96931-a330-4b0a-c323-061b4a5bc840"
      },
      "execution_count": null,
      "outputs": [
        {
          "output_type": "stream",
          "name": "stdout",
          "text": [
            "R2 Value :  0.8428279165994214\n",
            "MSE Value :  565.195120326552\n",
            "RMSE Value :  23.77383268062918\n"
          ]
        }
      ]
    },
    {
      "cell_type": "markdown",
      "source": [
        "Dari sini dapat dibandingkan antara testing error dan training error. Biasanya testing error > training error. Namun, semakin baik model maka perbedaannya tidak begitu jauh.\n",
        "\n",
        "Kami membandingkan **hasil prediksi model dengan nilai sebenarnya** menggunakan **scatter plot**, yang membantu melihat seberapa akurat model dalam memprediksi **CO2EMISSIONS** pada data uji (`x_test`).  \n",
        "\n",
        "1. **Melakukan Prediksi pada Data Uji**  \n",
        "   [`y_pred = simple_lr_model.predict(x_test)`] →\n",
        "   Model yang telah dilatih digunakan untuk memprediksi **CO2EMISSIONS** berdasarkan fitur dalam **x_test**. Hasil prediksi disimpan dalam `y_pred`.  \n",
        "\n",
        "2. **Membuat Scatter Plot untuk Evaluasi Model**  \n",
        "   - `plt.scatter(y_test, y_pred, color='blue', alpha=0.5)` → Membuat scatter plot di mana **sumbu X** adalah nilai asli (`y_test`), dan **sumbu Y** adalah nilai prediksi (`y_pred`). Jika model sempurna, titik-titik akan sejajar pada garis diagonal.  \n",
        "   - `plt.plot([y_test.min(), y_test.max()], [y_test.min(), y_test.max()], 'r--')` → Menambahkan **garis referensi (y = x)** sebagai pembanding. Semakin dekat titik-titik dengan garis ini, semakin akurat prediksi model.  \n",
        "\n",
        "Hasil prediksi dengan nilai sebenarnya dapat digambarkan dengan grafik sebagai berikut."
      ],
      "metadata": {
        "id": "DdnE1GG9m6_d"
      }
    },
    {
      "cell_type": "code",
      "source": [
        "# Prediksi menggunakan model yang sudah dilatih\n",
        "y_pred = simple_lr_model.predict(x_test)\n",
        "\n",
        "# Scatter plot antara y_test (asli) vs y_pred (prediksi)\n",
        "plt.figure(figsize=(8, 6))\n",
        "plt.scatter(y_test, y_pred, color='blue', alpha=0.5)\n",
        "plt.xlabel(\"Actual CO2 Emissions\")\n",
        "plt.ylabel(\"Predicted CO2 Emissions\")\n",
        "plt.title(\"Actual vs Predicted CO2 Emissions\")\n",
        "plt.plot([y_test.min(), y_test.max()], [y_test.min(), y_test.max()], 'r--')  # Garis y=x untuk referensi\n",
        "plt.show()"
      ],
      "metadata": {
        "id": "midZ4NIgJJVg",
        "colab": {
          "base_uri": "https://localhost:8080/",
          "height": 564
        },
        "outputId": "86e4be75-438a-4cde-8a8b-492a8f1e7fd2"
      },
      "execution_count": null,
      "outputs": [
        {
          "output_type": "display_data",
          "data": {
            "text/plain": [
              "<Figure size 800x600 with 1 Axes>"
            ],
            "image/png": "[encoded data removed]"
          },
          "metadata": {}
        }
      ]
    },
    {
      "cell_type": "markdown",
      "source": [
        "Terakhir, kami mengekstrak parameter utama dari model regresi linear, yaitu **intercept (bias)** dan **koefisien regresi (bobot) untuk setiap fitur**. **Intercept** menunjukkan nilai awal CO2EMISSIONS ketika semua fitur bernilai nol, sedangkan **koefisien regresi** menunjukkan seberapa besar perubahan dalam CO2EMISSIONS ketika setiap fitur meningkat satu satuan, dengan asumsi fitur lainnya tetap konstan. Setelah mendapatkan nilai ini, kami mencetak bias dan bobot untuk setiap fitur (`ENGINESIZE`, `CYLINDERS`, `FUELCONSUMPTION_CITY`, dan `FUELCONSUMPTION_HWY`).\n",
        "\n",
        "Persamaan regresi linear dapat disusun dalam bentuk eksplisit sebagai\n",
        "\n",
        "**$y = 68.47 + 11.70 x_1 + 6.64 x_2 + 6.17x_3 + 2.99x_4$**\n",
        "\n",
        "yang menggambarkan hubungan antara variabel input dengan output yang diprediksi."
      ],
      "metadata": {
        "id": "LSMsWrZAJWP5"
      }
    },
    {
      "cell_type": "code",
      "source": [
        "# Ambil intercept (bias)\n",
        "constant = simple_lr_model.intercept_[0]\n",
        "\n",
        "# Ambil bobot (koefisien regresi) untuk semua fitur\n",
        "weights = simple_lr_model.coef_[0]\n",
        "\n",
        "# Cetak konstanta (bias)\n",
        "print(\"Bias/konstanta:\", constant)\n",
        "\n",
        "# Cetak bobot untuk setiap fitur\n",
        "for i, feature in enumerate(x.columns):\n",
        "    print(f\"Bobot/gradien untuk {feature}: {weights[i]}\")\n",
        "\n",
        "# Tampilkan persamaan model\n",
        "equation = \"y = {:.2f}\".format(constant)\n",
        "for i, feature in enumerate(x.columns):\n",
        "    equation += \" + {:.2f}*x{}\".format(weights[i], i+1)\n",
        "\n",
        "print(\"Persamaan model:\", equation)"
      ],
      "metadata": {
        "id": "Pmtiz_UWJQ8g",
        "colab": {
          "base_uri": "https://localhost:8080/"
        },
        "outputId": "91788f70-0e41-49b8-f361-37585be57dd4"
      },
      "execution_count": null,
      "outputs": [
        {
          "output_type": "stream",
          "name": "stdout",
          "text": [
            "Bias/konstanta: 68.46933173282588\n",
            "Bobot/gradien untuk ENGINESIZE: 11.701758656807728\n",
            "Bobot/gradien untuk CYLINDERS: 6.640823567739734\n",
            "Bobot/gradien untuk FUELCONSUMPTION_CITY: 6.168799482504966\n",
            "Bobot/gradien untuk FUELCONSUMPTION_HWY: 2.99229333949425\n",
            "Persamaan model: y = 68.47 + 11.70*x1 + 6.64*x2 + 6.17*x3 + 2.99*x4\n"
          ]
        }
      ]
    },
    {
      "cell_type": "markdown",
      "source": [
        "##**6. Metode Regresi dengan Gradient Descent**\n",
        "\n",
        "Metode MLR di atas adalah metode regresi yang diselesaikan dengan metode matematika biasa. Sedangkan untuk memahami konsep machine learning, maka di sini kita akan membuktikan bahwa untuk mencari persamaan garis juga bisa dilakukan dengan dengan metode ***gradient descent*** yang merupakan salah satu metode inti dari machine learning dan pada khususnya *artificial neural network* (ANN).\n",
        "\n",
        "Gradient descent pada regresi linier tujuannya adalah menemukan m dan c yang benar yang akan memberikan model terbaik, yang seharusnya mendekati hasil m dan c dengan metode MLR.\n",
        "\n",
        "Sebelum mulai maka perlu diinisialisasikan nilai m dan c, dengan suatu angka tetap (misal 0) atau nilai random."
      ],
      "metadata": {
        "id": "DABIpRr3JxZd"
      }
    },
    {
      "cell_type": "code",
      "source": [
        "# Konversi data ke array\n",
        "X = np.array(x_train)\n",
        "Y = np.array(y_train).reshape(-1, 1)  # Pastikan Y berbentuk kolom\n",
        "print(x_train)\n",
        "print(x_train.shape)\n",
        "print(X.shape)"
      ],
      "metadata": {
        "id": "_evj5sYpJ00y",
        "colab": {
          "base_uri": "https://localhost:8080/"
        },
        "outputId": "acdc164f-023a-4080-e6e0-53d329319091"
      },
      "execution_count": null,
      "outputs": [
        {
          "output_type": "stream",
          "name": "stdout",
          "text": [
            "      ENGINESIZE  CYLINDERS  FUELCONSUMPTION_CITY  FUELCONSUMPTION_HWY\n",
            "69           6.0         12                  18.8                 11.5\n",
            "697          2.0          4                   9.3                  7.6\n",
            "705          2.5          4                   8.4                  6.1\n",
            "521          2.4          4                  11.6                  9.3\n",
            "474          6.2          8                  23.3                 16.1\n",
            "...          ...        ...                   ...                  ...\n",
            "847          1.6          4                   9.3                  7.9\n",
            "715          2.5          4                   8.8                  6.2\n",
            "905          4.8          8                  15.1                  9.7\n",
            "235          2.4          4                  12.2                  8.6\n",
            "1061         3.2          6                  13.0                  8.9\n",
            "\n",
            "[746 rows x 4 columns]\n",
            "(746, 4)\n",
            "(746, 4)\n"
          ]
        }
      ]
    },
    {
      "cell_type": "code",
      "source": [
        "# Inisialisasi parameter bobot (m1, m2, m3, m4) dan bias (c)\n",
        "c = 0  # Bias diinisialisasi dengan 0\n",
        "m = np.zeros((4,1))  # Bobot untuk 4 fitur diinisialisasi 0"
      ],
      "metadata": {
        "id": "1QjhEwtxBlq4"
      },
      "execution_count": null,
      "outputs": []
    },
    {
      "cell_type": "code",
      "source": [
        "print(c)\n",
        "print(m)\n",
        "print(X)\n",
        "print (np.isnan(np.min(X)))\n",
        "print(np.isnan(np.min(m)))\n",
        "print(m)"
      ],
      "metadata": {
        "colab": {
          "base_uri": "https://localhost:8080/"
        },
        "id": "wZ80XfOZ7kgZ",
        "outputId": "a8dac8c7-acb7-402a-fa8a-4ec60078146a"
      },
      "execution_count": null,
      "outputs": [
        {
          "output_type": "stream",
          "name": "stdout",
          "text": [
            "0\n",
            "[[0.]\n",
            " [0.]\n",
            " [0.]\n",
            " [0.]]\n",
            "[[ 6.  12.  18.8 11.5]\n",
            " [ 2.   4.   9.3  7.6]\n",
            " [ 2.5  4.   8.4  6.1]\n",
            " ...\n",
            " [ 4.8  8.  15.1  9.7]\n",
            " [ 2.4  4.  12.2  8.6]\n",
            " [ 3.2  6.  13.   8.9]]\n",
            "False\n",
            "False\n",
            "[[0.]\n",
            " [0.]\n",
            " [0.]\n",
            " [0.]]\n"
          ]
        }
      ]
    },
    {
      "cell_type": "markdown",
      "source": [
        "Dalam machine learning, terdapat istilah **parameter** dan **hyperparameter**.\n",
        "\n",
        "Parameter adalah variabel yang akan dicari selama mesin \"belajar\". Contoh dalam regresi linier, maka m dan c adalah parameter.\n",
        "\n",
        "Hyperparameter adalah variabel pembelajaran yang perlu disetting dari awal dengan cara ditebak, atau dengan metode pencarian tertentu atau optimasi. Contoh dalam regresi linier dengan gradient descent, maka **learning rate** dan **epoch** merupakan hyperparameter. Seringkali tantangan dalam machine learning ini adalah mencari hyperparameter yang tepat.\n",
        "\n",
        "Note:\n",
        "* learning rate = laju pembelajaran\n",
        "* epoch = jumlah iterasi pembelajaran untuk 1 set data. Contoh jika ada 500 data training, maka 1 epoch artinya mesin sudah belajar untuk ke-500 data tersebut sebanyak 1 kali"
      ],
      "metadata": {
        "id": "8zu9kB9-xQT_"
      }
    },
    {
      "cell_type": "code",
      "source": [
        "# Setting hyperparameter (ditebak/brute force atau menggunakan metode optimasi)\n",
        "# Coba ubah-ubah L dan epoch. Apa yang dapat diamati?\n",
        "\n",
        "# Hyperparameter\n",
        "L = 0.001  # Learning rate\n",
        "epochs = 100000  # Jumlah iterasi\n",
        "n = float(len(X))  # Jumlah sampel\n",
        "print(n)\n"
      ],
      "metadata": {
        "id": "x1F2bmWGw7jx",
        "colab": {
          "base_uri": "https://localhost:8080/"
        },
        "outputId": "59e16f71-9254-4012-fc34-668ab5e232c2"
      },
      "execution_count": null,
      "outputs": [
        {
          "output_type": "stream",
          "name": "stdout",
          "text": [
            "746.0\n"
          ]
        }
      ]
    },
    {
      "cell_type": "markdown",
      "source": [
        "###The Gradient Descent Algorithm\n",
        "https://towardsdatascience.com/linear-regression-using-gradient-descent-97a6c8700931\n",
        "\n",
        "Gradient descent is an iterative optimization algorithm to find the minimum of a function. Here that function is our Loss Function.\n",
        "\n",
        "Understanding Gradient Descent\n",
        "<img src=\"https://miro.medium.com/max/1400/1*N5WjbzwsCFse-KPjBWZZ6g.jpeg\">\n",
        "Illustration of how the gradient descent algorithm works\n",
        "\n",
        "Imagine a valley and a person with no sense of direction who wants to get to the bottom of the valley. He goes down the slope and takes large steps when the slope is steep and small steps when the slope is less steep. He decides his next position based on his current position and stops when he gets to the bottom of the valley which was his goal.\n",
        "Let’s try applying gradient descent to m and c and approach it step by step:\n",
        "1. Initially let m = 0 and c = 0. Let L be our learning rate. This controls how much the value of m changes with each step. L could be a small value like 0.0001 for good accuracy.\n",
        "2. Calculate the partial derivative of the loss function with respect to m, and plug in the current values of x, y, m and c in it to obtain the derivative value D.\n",
        "\n",
        "Derivative with respect to m, Dm:\n",
        "\n",
        "<img src=\"https://miro.medium.com/max/800/1*FvYfCBrl2gX9K-KxSO1eIw.jpeg\">\n",
        "\n",
        "Similarly lets find the partial derivative with respect to c, Dc:\n",
        "\n",
        "<img src=\"https://miro.medium.com/max/600/1*rj09w2TcBxnHPtQ0oq4ehA.jpeg\">\n",
        "\n",
        "3. Now we update the current value of m and c using the following equation:\n",
        "\n",
        "<img src=\"https://miro.medium.com/max/600/1*JDcHqFK8jLcgQu1cj2XuVQ.jpeg\">\n",
        "\n",
        "4. We repeat this process until our loss function is a very small value or ideally 0 (which means 0 error or 100% accuracy). The value of m and c that we are left with now will be the optimum values.\n",
        "\n",
        "Now going back to our analogy, m can be considered the current position of the person. D is equivalent to the steepness of the slope and L can be the speed with which he moves. Now the new value of m that we calculate using the above equation will be his next position, and L×D will be the size of the steps he will take. When the slope is more steep (D is more) he takes longer steps and when it is less steep (D is less), he takes smaller steps. Finally he arrives at the bottom of the valley which corresponds to our loss = 0.\n",
        "Now with the optimum value of m and c our model is ready to make predictions !"
      ],
      "metadata": {
        "id": "7NLNLJgY1B_J"
      }
    },
    {
      "cell_type": "code",
      "source": [
        "print(\"N:\",n)\n",
        "print(\"X.T:\",X.T)\n",
        "\n",
        "# Gradient Descent\n",
        "for i in range(epochs):\n",
        "    Y_pred = np.dot(X, m) + c  # Prediksi Y saat ini\n",
        "    D_m = (-2/n) * np.dot(X.T, (Y - Y_pred))  # Turunan bobot\n",
        "    D_c = (-2/n) * np.sum(Y - Y_pred)  # Turunan bias\n",
        "    m = m - L * D_m  # Update bobot\n",
        "    c = c - L * D_c  # Update bias\n",
        "\n",
        "# Menampilkan hasil akhir\n",
        "print(\"Bias/konstanta : \", c)\n",
        "print(\"Bobot/gradien : \", m.flatten())\n",
        "print(\"Persamaan model : y = %.2f + %.2f x1 + %.2f x2 + %.2f x3 + %.2f x4\" % (c, m[0][0], m[1][0], m[2][0], m[3][0]))\n"
      ],
      "metadata": {
        "id": "Nj2cnd4E0_AI",
        "colab": {
          "base_uri": "https://localhost:8080/"
        },
        "outputId": "18be2912-ef1f-46f3-80bc-c3b8cc6830f0"
      },
      "execution_count": null,
      "outputs": [
        {
          "output_type": "stream",
          "name": "stdout",
          "text": [
            "N: 746.0\n",
            "X.T: [[ 6.   2.   2.5 ...  4.8  2.4  3.2]\n",
            " [12.   4.   4.  ...  8.   4.   6. ]\n",
            " [18.8  9.3  8.4 ... 15.1 12.2 13. ]\n",
            " [11.5  7.6  6.1 ...  9.7  8.6  8.9]]\n",
            "Bias/konstanta :  68.44672929550163\n",
            "Bobot/gradien :  [11.69431019  6.64700571  6.16787131  2.9947449 ]\n",
            "Persamaan model : y = 68.45 + 11.69 x1 + 6.65 x2 + 6.17 x3 + 2.99 x4\n"
          ]
        }
      ]
    },
    {
      "cell_type": "code",
      "source": [
        "print(np.isnan(X).sum(), \"NaN dalam X\")\n",
        "print(np.isnan(m).sum(), \"NaN dalam m\")\n",
        "print(np.isinf(X).sum(), \"Inf dalam X\")\n",
        "print(np.isinf(m).sum(), \"Inf dalam m\")"
      ],
      "metadata": {
        "colab": {
          "base_uri": "https://localhost:8080/"
        },
        "id": "mecVwtnsdxly",
        "outputId": "eba20cee-7bec-44aa-d1ce-48aa33706189"
      },
      "execution_count": null,
      "outputs": [
        {
          "output_type": "stream",
          "name": "stdout",
          "text": [
            "0 NaN dalam X\n",
            "0 NaN dalam m\n",
            "0 Inf dalam X\n",
            "0 Inf dalam m\n"
          ]
        }
      ]
    },
    {
      "cell_type": "markdown",
      "source": [
        "Kita akan membandingkan hasil dengan metode gradient descent ini apakah sudah sama atau mendekati hasil dari MLR dengan cara menghitung testing errornya.\n",
        "\n",
        "Kita dapat mengganti hyperparameter dan inisialisasi parameter di awal. Perhatikan bahwa setiap kali penggantian nilai-nilai tersebut, maka bisa jadi kita mendapatkan hasil akhir yang berbeda, sehingga testing error nya pun berbeda.\n",
        "\n",
        "Oleh karena itu, untuk seluruh algoritma machine learning yang memiliki nilai parameter yang random di awal, maka percobaan harus dilakukan berulang kali. Menurut prinsip statistika, maka pengulangan harus dilakukan > 30 kali sebagai syarat asumsi distribusi normal."
      ],
      "metadata": {
        "id": "y2xQ3xrR4Eyk"
      }
    },
    {
      "cell_type": "code",
      "source": [
        "# Uji model\n",
        "X_test = np.array(x_test)\n",
        "Y_true = np.array(y_test).reshape(-1, 1)\n",
        "print(X_test.shape)\n",
        "print(m.shape)\n",
        "Y_pred = np.dot(X_test, m) + c\n",
        "\n",
        "# Evaluasi model\n",
        "print(\"R2 Value : \", r2_score(Y_true, Y_pred))\n",
        "print(\"MSE Value : \", mean_squared_error(Y_true, Y_pred))\n",
        "print(\"RMSE Value : \", np.sqrt(mean_squared_error(Y_true, Y_pred)))\n"
      ],
      "metadata": {
        "id": "vf5ax9PjKKGT",
        "colab": {
          "base_uri": "https://localhost:8080/"
        },
        "outputId": "8c04fe94-f472-4329-b261-28de2c0bde78"
      },
      "execution_count": null,
      "outputs": [
        {
          "output_type": "stream",
          "name": "stdout",
          "text": [
            "(321, 4)\n",
            "(4, 1)\n",
            "R2 Value :  0.867028533327496\n",
            "MSE Value :  565.1790694867611\n",
            "RMSE Value :  23.773495104564688\n"
          ]
        }
      ]
    },
    {
      "cell_type": "markdown",
      "source": [
        "##**Closing**\n",
        "\n",
        "Sebelumnya, dengan simple linear regression kami sudah berhasil mengetahui:\n",
        "* Metode SLR 1 variabel dengan Scikit Learn\n",
        "* Metode Linear regression dengan Gradient Descent\n",
        "* Metrik pengukuran regresi: MAE, MSE, RMSE, R-square\n",
        "\n",
        "Kami menggunakan parameter $c$ untuk bias dan $m$ untuk bobot, untuk 1 variabel $x$.\n",
        "\n",
        "####**Multiple Linear Regression**\n",
        "\n",
        "Pada **Multiple Linear Regression**, kami akan memiliki banyak fitur/variabel, yaitu $x_{1}$, $x_{2}$, ... , $x_{n}$. Untuk menyesuaikan dengan banyak literatur maka untuk selanjutnya kami dapat mengubah penamaan variabel menjadi:\n",
        "\n",
        "* Bias           = $θ_{0}$ = $m_{0}$\n",
        "* Bobot (weight) = $θ_{1}$, $θ_{2}$, ... , $θ_{n}$ = $m_{1}$, $m_{2}$, ... ,$m_{n}$"
      ],
      "metadata": {
        "id": "9UGKhrCF9vvY"
      }
    }
  ]
}