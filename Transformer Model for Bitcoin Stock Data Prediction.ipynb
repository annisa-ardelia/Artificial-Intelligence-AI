{
 "cells": [
  {
   "cell_type": "code",
   "execution_count": null,
   "metadata": {
    "id": "bL42HI3m8xSs"
   },
   "outputs": [],
   "source": [
    "import torch\n",
    "import numpy as np\n",
    "import pandas as pd\n",
    "import torch.nn as nn\n",
    "import matplotlib.pyplot as plt\n",
    "import torch.nn.functional as F\n",
    "from sklearn.preprocessing import MinMaxScaler\n",
    "from torch.utils.data import Dataset, DataLoader\n",
    "from sklearn.metrics import mean_absolute_error, mean_squared_error, r2_score"
   ]
  },
  {
   "cell_type": "code",
   "execution_count": null,
   "metadata": {
    "id": "6bNtDTHBfkz9"
   },
   "outputs": [],
   "source": [
    "# Load data\n",
    "df = pd.read_csv('BTC-USD_stock_data.csv')\n",
    "df['Date'] = pd.to_datetime(df['Date'])\n",
    "df.set_index('Date', inplace=True)"
   ]
  },
  {
   "cell_type": "code",
   "execution_count": null,
   "metadata": {
    "id": "ZoQRh_qbfyZM"
   },
   "outputs": [],
   "source": [
    "# Predicr 'Close' column\n",
    "data = df[['Close']]\n",
    "\n",
    "# Split data by time\n",
    "train_data = data[:'2022']\n",
    "test_data = data['2023':]"
   ]
  },
  {
   "cell_type": "code",
   "execution_count": null,
   "metadata": {
    "id": "6l7fsaOqf9aC"
   },
   "outputs": [],
   "source": [
    "# Normalisasi hanya berdasarkan training (hindari data leakage)\n",
    "scaler = MinMaxScaler()\n",
    "train_scaled = scaler.fit_transform(train_data)\n",
    "test_scaled = scaler.transform(test_data)"
   ]
  },
  {
   "cell_type": "code",
   "execution_count": null,
   "metadata": {
    "id": "BEgfEdxZgD3-"
   },
   "outputs": [],
   "source": [
    "# Dataset class (untuk input sequence & target)\n",
    "class BTCSequenceDataset(Dataset):\n",
    "    def __init__(self, data, input_len=30, pred_len=7):\n",
    "        self.data = data\n",
    "        self.input_len = input_len\n",
    "        self.pred_len = pred_len\n",
    "\n",
    "    def __len__(self):\n",
    "        return len(self.data) - self.input_len - self.pred_len\n",
    "\n",
    "    def __getitem__(self, idx):\n",
    "      x = self.data[idx:idx + self.input_len]\n",
    "      y = self.data[idx + self.input_len:idx + self.input_len + self.pred_len]\n",
    "      return torch.tensor(x, dtype=torch.float32).unsqueeze(-1), torch.tensor(y, dtype=torch.float32)"
   ]
  },
  {
   "cell_type": "code",
   "execution_count": null,
   "metadata": {
    "id": "GSHqvQswgIiV"
   },
   "outputs": [],
   "source": [
    "# Membuat dataset dan dataloader\n",
    "input_len = 30\n",
    "pred_len = 7\n",
    "\n",
    "train_dataset = BTCSequenceDataset(train_scaled, input_len, pred_len)\n",
    "test_dataset = BTCSequenceDataset(test_scaled, input_len, pred_len)\n",
    "\n",
    "train_loader = DataLoader(train_dataset, batch_size=32, shuffle=True)\n",
    "test_loader = DataLoader(test_dataset, batch_size=1, shuffle=False)"
   ]
  },
  {
   "cell_type": "code",
   "execution_count": null,
   "metadata": {
    "id": "acGxGBNi8hd6"
   },
   "outputs": [],
   "source": [
    "class PositionalEncoding(nn.Module):\n",
    "    def __init__(self, d_model, max_len=500):\n",
    "        super().__init__()\n",
    "        pe = torch.zeros(max_len, d_model)\n",
    "        position = torch.arange(0, max_len, dtype=torch.float).unsqueeze(1)\n",
    "        div_term = torch.exp(torch.arange(0, d_model, 2).float() * (-np.log(10000.0) / d_model))\n",
    "        pe[:, 0::2] = torch.sin(position * div_term)\n",
    "        pe[:, 1::2] = torch.cos(position * div_term)\n",
    "        self.pe = pe.unsqueeze(1)\n",
    "\n",
    "    def forward(self, x):\n",
    "        x = x + self.pe[:x.size(0)].to(x.device)\n",
    "        return x"
   ]
  },
  {
   "cell_type": "code",
   "execution_count": null,
   "metadata": {
    "id": "jEHb6GBTgXTK"
   },
   "outputs": [],
   "source": [
    "class Transformer(nn.Module):\n",
    "    def __init__(self, input_dim, d_model=128, n_heads=8, e_layers=4, pred_len=7):\n",
    "        super().__init__()\n",
    "        self.input_proj = nn.Linear(input_dim, d_model)\n",
    "        self.pos_encoding = PositionalEncoding(d_model)\n",
    "        encoder_layer = nn.TransformerEncoderLayer(d_model=d_model, nhead=n_heads, dropout=0.2)\n",
    "        self.encoder = nn.TransformerEncoder(encoder_layer, num_layers=e_layers)\n",
    "        self.output_proj = nn.Linear(d_model, pred_len)\n",
    "\n",
    "    def forward(self, x):\n",
    "        x = self.input_proj(x)\n",
    "        x = self.pos_encoding(x.permute(1, 0, 2))  # (seq_len, batch, d_model)\n",
    "        encoded = self.encoder(x)\n",
    "        output = self.output_proj(encoded[-1])  # Take last time step\n",
    "        return output"
   ]
  },
  {
   "cell_type": "code",
   "execution_count": null,
   "metadata": {
    "colab": {
     "base_uri": "https://localhost:8080/"
    },
    "id": "DCoMPaQLga4T",
    "outputId": "0e284d58-50d4-46ae-f0e1-9835cb6189b1"
   },
   "outputs": [
    {
     "name": "stderr",
     "output_type": "stream",
     "text": [
      "/usr/local/lib/python3.11/dist-packages/torch/nn/modules/transformer.py:385: UserWarning: enable_nested_tensor is True, but self.use_nested_tensor is False because encoder_layer.self_attn.batch_first was not True(use batch_first for better inference performance)\n",
      "  warnings.warn(\n",
      "/usr/local/lib/python3.11/dist-packages/torch/optim/lr_scheduler.py:62: UserWarning: The verbose parameter is deprecated. Please use get_last_lr() to access the learning rate.\n",
      "  warnings.warn(\n"
     ]
    },
    {
     "name": "stdout",
     "output_type": "stream",
     "text": [
      "Epoch 1, Loss: 0.0393\n",
      "Epoch 2, Loss: 0.0101\n",
      "Epoch 3, Loss: 0.0063\n",
      "Epoch 4, Loss: 0.0044\n",
      "Epoch 5, Loss: 0.0035\n",
      "Epoch 6, Loss: 0.0029\n",
      "Epoch 7, Loss: 0.0025\n",
      "Epoch 8, Loss: 0.0022\n",
      "Epoch 9, Loss: 0.0019\n",
      "Epoch 10, Loss: 0.0018\n",
      "Epoch 11, Loss: 0.0016\n",
      "Epoch 12, Loss: 0.0015\n",
      "Epoch 13, Loss: 0.0014\n",
      "Epoch 14, Loss: 0.0013\n",
      "Epoch 15, Loss: 0.0013\n",
      "Epoch 16, Loss: 0.0013\n",
      "Epoch 17, Loss: 0.0012\n",
      "Epoch 18, Loss: 0.0012\n",
      "Epoch 19, Loss: 0.0011\n",
      "Epoch 20, Loss: 0.0012\n",
      "Epoch 21, Loss: 0.0011\n",
      "Epoch 22, Loss: 0.0011\n",
      "Epoch 23, Loss: 0.0011\n",
      "Epoch 24, Loss: 0.0011\n",
      "Epoch 25, Loss: 0.0011\n",
      "Epoch 26, Loss: 0.0011\n",
      "Epoch 27, Loss: 0.0010\n",
      "Epoch 28, Loss: 0.0010\n",
      "Epoch 29, Loss: 0.0010\n",
      "Epoch 30, Loss: 0.0010\n",
      "Epoch 31, Loss: 0.0010\n",
      "Epoch 32, Loss: 0.0010\n",
      "Epoch 33, Loss: 0.0009\n",
      "Epoch 34, Loss: 0.0009\n",
      "Epoch 35, Loss: 0.0010\n",
      "Epoch 36, Loss: 0.0009\n",
      "Epoch 37, Loss: 0.0009\n",
      "Epoch 38, Loss: 0.0009\n",
      "Epoch 39, Loss: 0.0009\n",
      "Epoch 40, Loss: 0.0009\n",
      "Epoch 41, Loss: 0.0009\n",
      "Epoch 42, Loss: 0.0009\n",
      "Epoch 43, Loss: 0.0009\n",
      "Epoch 44, Loss: 0.0009\n",
      "Epoch 45, Loss: 0.0009\n",
      "Epoch 46, Loss: 0.0009\n",
      "Epoch 47, Loss: 0.0009\n",
      "Epoch 48, Loss: 0.0009\n",
      "Epoch 49, Loss: 0.0008\n",
      "Epoch 50, Loss: 0.0008\n"
     ]
    }
   ],
   "source": [
    "# Training Loop with fine-tuning and early stopping\n",
    "model = Transformer(input_dim=1, d_model=32, n_heads=2, e_layers=1, pred_len=pred_len)\n",
    "criterion = nn.MSELoss()\n",
    "optimizer = torch.optim.Adam(model.parameters(), lr=0.0005)\n",
    "\n",
    "scheduler = torch.optim.lr_scheduler.ReduceLROnPlateau(optimizer, 'min', patience=2, factor=0.5, verbose=True)\n",
    "best_loss = float('inf')\n",
    "patience = 5\n",
    "wait = 0\n",
    "\n",
    "for epoch in range(50):\n",
    "    model.train()\n",
    "    total_loss = 0\n",
    "    for batch_x, batch_y in train_loader:\n",
    "        optimizer.zero_grad()\n",
    "        batch_x = batch_x.squeeze(-1)\n",
    "        pred = model(batch_x)\n",
    "        batch_y = batch_y.squeeze(-1)\n",
    "        loss = criterion(pred, batch_y)\n",
    "        loss.backward()\n",
    "        torch.nn.utils.clip_grad_norm_(model.parameters(), max_norm=1.0)\n",
    "        optimizer.step()\n",
    "        total_loss += loss.item()\n",
    "\n",
    "    avg_loss = total_loss / len(train_loader)\n",
    "    print(f\"Epoch {epoch+1}, Loss: {avg_loss:.4f}\")\n",
    "    scheduler.step(avg_loss)\n",
    "\n",
    "    if avg_loss < best_loss:\n",
    "        best_loss = avg_loss\n",
    "        wait = 0\n",
    "        torch.save(model.state_dict(), 'best_model.pt')\n",
    "    else:\n",
    "        wait += 1\n",
    "        if wait >= patience:\n",
    "            print(\"Early stopping.\")\n",
    "            break"
   ]
  },
  {
   "cell_type": "code",
   "execution_count": null,
   "metadata": {
    "colab": {
     "base_uri": "https://localhost:8080/"
    },
    "id": "EMhF8RSE0W2e",
    "outputId": "b33f7942-8860-4c86-91c5-3b856797cd76"
   },
   "outputs": [
    {
     "name": "stdout",
     "output_type": "stream",
     "text": [
      "Transformer(\n",
      "  (input_proj): Linear(in_features=1, out_features=32, bias=True)\n",
      "  (pos_encoding): PositionalEncoding()\n",
      "  (encoder): TransformerEncoder(\n",
      "    (layers): ModuleList(\n",
      "      (0): TransformerEncoderLayer(\n",
      "        (self_attn): MultiheadAttention(\n",
      "          (out_proj): NonDynamicallyQuantizableLinear(in_features=32, out_features=32, bias=True)\n",
      "        )\n",
      "        (linear1): Linear(in_features=32, out_features=2048, bias=True)\n",
      "        (dropout): Dropout(p=0.2, inplace=False)\n",
      "        (linear2): Linear(in_features=2048, out_features=32, bias=True)\n",
      "        (norm1): LayerNorm((32,), eps=1e-05, elementwise_affine=True)\n",
      "        (norm2): LayerNorm((32,), eps=1e-05, elementwise_affine=True)\n",
      "        (dropout1): Dropout(p=0.2, inplace=False)\n",
      "        (dropout2): Dropout(p=0.2, inplace=False)\n",
      "      )\n",
      "    )\n",
      "  )\n",
      "  (output_proj): Linear(in_features=32, out_features=7, bias=True)\n",
      ")\n"
     ]
    }
   ],
   "source": [
    "# Load best model sebelum testing\n",
    "model.load_state_dict(torch.load('best_model.pt'))\n",
    "print(model)"
   ]
  },
  {
   "cell_type": "code",
   "execution_count": null,
   "metadata": {
    "id": "rThYrfMjghJw"
   },
   "outputs": [],
   "source": [
    "# Output Predictions\n",
    "model.eval()\n",
    "predictions = []\n",
    "actuals = []\n",
    "\n",
    "with torch.no_grad():\n",
    "    for batch_x, batch_y in test_loader:\n",
    "        batch_x = batch_x.squeeze(-1)\n",
    "        output = model(batch_x)\n",
    "        predictions.append(output.squeeze().cpu().numpy())\n",
    "        actuals.append(batch_y.squeeze().cpu().numpy())"
   ]
  },
  {
   "cell_type": "code",
   "execution_count": null,
   "metadata": {
    "id": "VUp0viSjmyNK"
   },
   "outputs": [],
   "source": [
    "# Balikkan normalisasi\n",
    "predictions = scaler.inverse_transform(np.array(predictions))\n",
    "actuals = scaler.inverse_transform(np.array(actuals))"
   ]
  },
  {
   "cell_type": "code",
   "execution_count": null,
   "metadata": {
    "colab": {
     "base_uri": "https://localhost:8080/",
     "height": 333
    },
    "id": "Viarzws3nSft",
    "outputId": "741b04ca-30b0-47bd-e23e-4b8cb7e1ff23"
   },
   "outputs": [
    {
     "data": {
      "image/png": "[encoded data removed]",
      "text/plain": [
       "<Figure size 1000x300 with 1 Axes>"
      ]
     },
     "metadata": {},
     "output_type": "display_data"
    }
   ],
   "source": [
    "# Visualisasi\n",
    "plt.figure(figsize=(10, 3))\n",
    "plt.plot(actuals.flatten(), label='Actual')\n",
    "plt.plot(predictions.flatten(), label='Predicted')\n",
    "plt.legend()\n",
    "plt.title('BTC Close Price Prediction (Transformer)')\n",
    "plt.xlabel('Time')\n",
    "plt.ylabel('Price (USD)')\n",
    "plt.show()"
   ]
  },
  {
   "cell_type": "code",
   "execution_count": null,
   "metadata": {
    "colab": {
     "base_uri": "https://localhost:8080/"
    },
    "id": "Sb17d3LNweLG",
    "outputId": "a73a0dcf-15ce-4def-aa30-709f5db7849e"
   },
   "outputs": [
    {
     "name": "stdout",
     "output_type": "stream",
     "text": [
      "Evaluation Metrics\n",
      "MAE   : 1754.5848\n",
      "MSE   : 6214428.5000\n",
      "RMSE  : 2492.8755\n",
      "R²    : 0.9777\n",
      "MAPE  : 3.9790%\n",
      "SMAPE : 3.9942%\n",
      "RMSLE : 0.0528\n",
      "\n"
     ]
    }
   ],
   "source": [
    "# Helper functions for additional metrics\n",
    "def mape(y_true, y_pred):\n",
    "    return np.mean(np.abs((y_true - y_pred) / (y_true + 1e-8))) * 100\n",
    "\n",
    "def smape(y_true, y_pred):\n",
    "    return 100 * np.mean(2 * np.abs(y_pred - y_true) / (np.abs(y_true) + np.abs(y_pred) + 1e-8))\n",
    "\n",
    "def rmsle(y_true, y_pred):\n",
    "    return np.sqrt(np.mean((np.log1p(y_pred) - np.log1p(y_true))**2))\n",
    "\n",
    "# Evaluation\n",
    "mae = mean_absolute_error(actuals, predictions)\n",
    "mse = mean_squared_error(actuals, predictions)\n",
    "rmse = np.sqrt(mse)\n",
    "r2 = r2_score(actuals, predictions)\n",
    "mape_val = mape(actuals, predictions)\n",
    "smape_val = smape(actuals, predictions)\n",
    "rmsle_val = rmsle(actuals, predictions)\n",
    "\n",
    "# Display metrics\n",
    "print(f\"Evaluation Metrics\")\n",
    "print(f\"MAE   : {mae:.4f}\")\n",
    "print(f\"MSE   : {mse:.4f}\")\n",
    "print(f\"RMSE  : {rmse:.4f}\")\n",
    "print(f\"R²    : {r2:.4f}\")\n",
    "print(f\"MAPE  : {mape_val:.4f}%\")\n",
    "print(f\"SMAPE : {smape_val:.4f}%\")\n",
    "print(f\"RMSLE : {rmsle_val:.4f}\\n\")"
   ]
  },
  {
   "cell_type": "markdown",
   "metadata": {},
   "source": [
    "## Reference\n",
    "https://www.kaggle.com/datasets/gallo33henrique/bitcoin-btc-usd-stock-dataset"
   ]
  }
 ],
 "metadata": {
  "colab": {
   "provenance": []
  },
  "kernelspec": {
   "display_name": "Python 3 (ipykernel)",
   "language": "python",
   "name": "python3"
  },
  "language_info": {
   "codemirror_mode": {
    "name": "ipython",
    "version": 3
   },
   "file_extension": ".py",
   "mimetype": "text/x-python",
   "name": "python",
   "nbconvert_exporter": "python",
   "pygments_lexer": "ipython3",
   "version": "3.11.7"
  }
 },
 "nbformat": 4,
 "nbformat_minor": 4
}
